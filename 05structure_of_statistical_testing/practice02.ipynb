{
 "cells": [
  {
   "cell_type": "code",
   "execution_count": 6,
   "metadata": {
    "collapsed": false
   },
   "outputs": [],
   "source": [
    "import pandas as pd\n",
    "import numpy as np\n",
    "from scipy import stats\n",
    "import matplotlib.pyplot as plt\n",
    "import statsmodels.api as sm\n",
    "%matplotlib inline"
   ]
  },
  {
   "cell_type": "code",
   "execution_count": 3,
   "metadata": {
    "collapsed": true
   },
   "outputs": [],
   "source": [
    "data = pd.read_csv('data3a.csv')"
   ]
  },
  {
   "cell_type": "code",
   "execution_count": 4,
   "metadata": {
    "collapsed": true
   },
   "outputs": [],
   "source": [
    "data['f_int'] = (data.f == 'T').astype(int)"
   ]
  },
  {
   "cell_type": "code",
   "execution_count": 5,
   "metadata": {
    "collapsed": false
   },
   "outputs": [
    {
     "name": "stdout",
     "output_type": "stream",
     "text": [
      "<class 'pandas.core.frame.DataFrame'>\n",
      "RangeIndex: 100 entries, 0 to 99\n",
      "Data columns (total 4 columns):\n",
      "y        100 non-null int64\n",
      "x        100 non-null float64\n",
      "f        100 non-null object\n",
      "f_int    100 non-null int64\n",
      "dtypes: float64(1), int64(2), object(1)\n",
      "memory usage: 3.2+ KB\n"
     ]
    }
   ],
   "source": [
    "data.info()"
   ]
  },
  {
   "cell_type": "code",
   "execution_count": 7,
   "metadata": {
    "collapsed": true
   },
   "outputs": [],
   "source": [
    "np.random.seed(10)\n",
    "data['y_rand'] = np.random.poisson(data.y.mean(),100)\n",
    "data.x_c = sm.add_constant(data['x'])\n",
    "\n",
    "result1 = sm.GLM(data.y_rand,data.x_c['const'],family=sm.families.Poisson()).fit()\n",
    "result2 = sm.GLM(data.y_rand,data.x_c,family=sm.families.Poisson()).fit()\n",
    "deltaD = result1.deviance - result2.deviance\n"
   ]
  },
  {
   "cell_type": "code",
   "execution_count": 8,
   "metadata": {
    "collapsed": false
   },
   "outputs": [
    {
     "data": {
      "text/plain": [
       "2.7068337885096412"
      ]
     },
     "execution_count": 8,
     "metadata": {},
     "output_type": "execute_result"
    }
   ],
   "source": [
    "deltaD"
   ]
  },
  {
   "cell_type": "code",
   "execution_count": 12,
   "metadata": {
    "collapsed": true
   },
   "outputs": [],
   "source": [
    "def get_dd(data):\n",
    "    data.x_c = sm.add_constant(data.x)\n",
    "    data['y_rand'] = np.random.poisson(data.y.mean(),100)\n",
    "    result = sm.GLM(data.y_rand,data.x_c,family=sm.families.Poisson()).fit()\n",
    "    return result.null_deviance - result.deviance\n",
    "\n",
    "def pb(data,n_bootstrap):\n",
    "    return np.array([get_dd(data) for i in range(n_bootstrap)])\n",
    "\n",
    "dd12 = pb(data,1000)"
   ]
  },
  {
   "cell_type": "code",
   "execution_count": 13,
   "metadata": {
    "collapsed": false
   },
   "outputs": [
    {
     "data": {
      "text/plain": [
       "0    0.297472\n",
       "1    1.680472\n",
       "2    0.053576\n",
       "3    0.164516\n",
       "4    0.094863\n",
       "dtype: float64"
      ]
     },
     "execution_count": 13,
     "metadata": {},
     "output_type": "execute_result"
    }
   ],
   "source": [
    "dd12 = pd.Series(dd12)\n",
    "dd12.head()"
   ]
  },
  {
   "cell_type": "code",
   "execution_count": 14,
   "metadata": {
    "collapsed": false
   },
   "outputs": [
    {
     "data": {
      "text/plain": [
       "count    1000.000000\n",
       "mean        1.005851\n",
       "std         1.521332\n",
       "min         0.000006\n",
       "25%         0.079729\n",
       "50%         0.425951\n",
       "75%         1.307838\n",
       "max        19.358259\n",
       "dtype: float64"
      ]
     },
     "execution_count": 14,
     "metadata": {},
     "output_type": "execute_result"
    }
   ],
   "source": [
    "dd12.describe()"
   ]
  },
  {
   "cell_type": "code",
   "execution_count": 15,
   "metadata": {
    "collapsed": false
   },
   "outputs": [
    {
     "data": {
      "text/plain": [
       "(array([ 359.,  118.,   89.,   79.,   39.,   33.,   44.,   32.,   25.,\n",
       "          16.,   21.,   12.,   18.,   11.,   15.,    7.,    7.,    8.,\n",
       "           3.,    5.,    6.,    7.,    3.,    7.,    4.,    3.,    3.,\n",
       "           3.,    4.,    3.,    1.,    0.,    2.,    1.,    1.,    3.,\n",
       "           0.,    1.,    1.,    0.,    4.,    0.,    0.,    0.,    0.,\n",
       "           0.,    0.,    0.,    0.,    0.,    0.,    0.,    0.,    0.,\n",
       "           1.,    0.,    0.,    0.,    0.,    0.,    0.,    0.,    0.,\n",
       "           0.,    0.,    0.,    0.,    0.,    0.,    0.,    0.,    0.,\n",
       "           0.,    0.,    0.,    0.,    0.,    0.,    0.,    0.,    0.,\n",
       "           0.,    0.,    0.,    0.,    0.,    0.,    0.,    0.,    0.,\n",
       "           0.,    0.,    0.,    0.,    0.,    0.,    0.,    0.,    0.,    1.]),\n",
       " array([  5.79510294e-06,   1.93588326e-01,   3.87170857e-01,\n",
       "          5.80753388e-01,   7.74335919e-01,   9.67918449e-01,\n",
       "          1.16150098e+00,   1.35508351e+00,   1.54866604e+00,\n",
       "          1.74224857e+00,   1.93583110e+00,   2.12941363e+00,\n",
       "          2.32299617e+00,   2.51657870e+00,   2.71016123e+00,\n",
       "          2.90374376e+00,   3.09732629e+00,   3.29090882e+00,\n",
       "          3.48449135e+00,   3.67807388e+00,   3.87165641e+00,\n",
       "          4.06523894e+00,   4.25882147e+00,   4.45240400e+00,\n",
       "          4.64598654e+00,   4.83956907e+00,   5.03315160e+00,\n",
       "          5.22673413e+00,   5.42031666e+00,   5.61389919e+00,\n",
       "          5.80748172e+00,   6.00106425e+00,   6.19464678e+00,\n",
       "          6.38822931e+00,   6.58181184e+00,   6.77539438e+00,\n",
       "          6.96897691e+00,   7.16255944e+00,   7.35614197e+00,\n",
       "          7.54972450e+00,   7.74330703e+00,   7.93688956e+00,\n",
       "          8.13047209e+00,   8.32405462e+00,   8.51763715e+00,\n",
       "          8.71121968e+00,   8.90480221e+00,   9.09838475e+00,\n",
       "          9.29196728e+00,   9.48554981e+00,   9.67913234e+00,\n",
       "          9.87271487e+00,   1.00662974e+01,   1.02598799e+01,\n",
       "          1.04534625e+01,   1.06470450e+01,   1.08406275e+01,\n",
       "          1.10342101e+01,   1.12277926e+01,   1.14213751e+01,\n",
       "          1.16149576e+01,   1.18085402e+01,   1.20021227e+01,\n",
       "          1.21957052e+01,   1.23892878e+01,   1.25828703e+01,\n",
       "          1.27764528e+01,   1.29700354e+01,   1.31636179e+01,\n",
       "          1.33572004e+01,   1.35507830e+01,   1.37443655e+01,\n",
       "          1.39379480e+01,   1.41315305e+01,   1.43251131e+01,\n",
       "          1.45186956e+01,   1.47122781e+01,   1.49058607e+01,\n",
       "          1.50994432e+01,   1.52930257e+01,   1.54866083e+01,\n",
       "          1.56801908e+01,   1.58737733e+01,   1.60673559e+01,\n",
       "          1.62609384e+01,   1.64545209e+01,   1.66481034e+01,\n",
       "          1.68416860e+01,   1.70352685e+01,   1.72288510e+01,\n",
       "          1.74224336e+01,   1.76160161e+01,   1.78095986e+01,\n",
       "          1.80031812e+01,   1.81967637e+01,   1.83903462e+01,\n",
       "          1.85839288e+01,   1.87775113e+01,   1.89710938e+01,\n",
       "          1.91646764e+01,   1.93582589e+01]),\n",
       " <a list of 100 Patch objects>)"
      ]
     },
     "execution_count": 15,
     "metadata": {},
     "output_type": "execute_result"
    },
    {
     "data": {
      "image/png": "[encoded data removed]",
      "text/plain": [
       "<matplotlib.figure.Figure at 0x7fe714fc1390>"
      ]
     },
     "metadata": {},
     "output_type": "display_data"
    }
   ],
   "source": [
    "plt.hist(dd12,bins=100)"
   ]
  },
  {
   "cell_type": "code",
   "execution_count": 16,
   "metadata": {
    "collapsed": false
   },
   "outputs": [
    {
     "data": {
      "text/plain": [
       "43"
      ]
     },
     "execution_count": 16,
     "metadata": {},
     "output_type": "execute_result"
    }
   ],
   "source": [
    "(dd12 >= 4.5).sum()"
   ]
  },
  {
   "cell_type": "code",
   "execution_count": 17,
   "metadata": {
    "collapsed": false
   },
   "outputs": [
    {
     "data": {
      "text/plain": [
       "4.132292196405599"
      ]
     },
     "execution_count": 17,
     "metadata": {},
     "output_type": "execute_result"
    }
   ],
   "source": [
    "dd12.quantile(0.95)"
   ]
  },
  {
   "cell_type": "code",
   "execution_count": 18,
   "metadata": {
    "collapsed": true
   },
   "outputs": [],
   "source": [
    "P = stats.chi2.sf(x=4.5,df=1)"
   ]
  },
  {
   "cell_type": "code",
   "execution_count": 19,
   "metadata": {
    "collapsed": false
   },
   "outputs": [
    {
     "data": {
      "text/plain": [
       "0.033894853524689295"
      ]
     },
     "execution_count": 19,
     "metadata": {},
     "output_type": "execute_result"
    }
   ],
   "source": [
    "P"
   ]
  },
  {
   "cell_type": "code",
   "execution_count": null,
   "metadata": {
    "collapsed": true
   },
   "outputs": [],
   "source": []
  }
 ],
 "metadata": {
  "anaconda-cloud": {},
  "kernelspec": {
   "display_name": "Python [conda root]",
   "language": "python",
   "name": "conda-root-py"
  },
  "language_info": {
   "codemirror_mode": {
    "name": "ipython",
    "version": 2
   },
   "file_extension": ".py",
   "mimetype": "text/x-python",
   "name": "python",
   "nbconvert_exporter": "python",
   "pygments_lexer": "ipython2",
   "version": "2.7.12"
  }
 },
 "nbformat": 4,
 "nbformat_minor": 1
}
