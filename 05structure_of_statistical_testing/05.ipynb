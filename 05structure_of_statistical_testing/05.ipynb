{
 "cells": [
  {
   "cell_type": "code",
   "execution_count": 4,
   "metadata": {
    "collapsed": false
   },
   "outputs": [],
   "source": [
    "%matplotlib inline\n",
    "import pandas as pd\n",
    "import numpy as np\n",
    "import matplotlib.pyplot as plt\n",
    "import statsmodels.api as sm"
   ]
  },
  {
   "cell_type": "code",
   "execution_count": 5,
   "metadata": {
    "collapsed": true
   },
   "outputs": [],
   "source": [
    "data = pd.read_csv('data3a.csv')"
   ]
  },
  {
   "cell_type": "code",
   "execution_count": 8,
   "metadata": {
    "collapsed": false
   },
   "outputs": [],
   "source": [
    "data['f_int'] = (data.f == 'T').astype(int)"
   ]
  },
  {
   "cell_type": "code",
   "execution_count": 9,
   "metadata": {
    "collapsed": true
   },
   "outputs": [],
   "source": [
    "data.x_c = sm.add_constant(data.x)"
   ]
  },
  {
   "cell_type": "code",
   "execution_count": 19,
   "metadata": {
    "collapsed": false
   },
   "outputs": [],
   "source": [
    "#一定モデル\n",
    "model1 = sm.GLM(data.y,data.x_c['const'],family=sm.families.Poisson())\n",
    "result_1 = model1.fit()\n",
    "#xモデル\n",
    "model2 = sm.GLM(data.y,data.x_c,family=sm.families.Poisson())\n",
    "result_2 = model2.fit()"
   ]
  },
  {
   "cell_type": "markdown",
   "metadata": {},
   "source": [
    "逸脱度の差=尤度比"
   ]
  },
  {
   "cell_type": "code",
   "execution_count": 22,
   "metadata": {
    "collapsed": false
   },
   "outputs": [
    {
     "name": "stdout",
     "output_type": "stream",
     "text": [
      "4.51394107885\n"
     ]
    }
   ],
   "source": [
    "deltaD = -2*(result_1.llf - result_2.llf)\n",
    "print deltaD"
   ]
  },
  {
   "cell_type": "markdown",
   "metadata": {},
   "source": [
    "一定モデルに比べてxモデルの逸脱度の差は4.5位となっており、これは一定モデルに比べてxモデルでは当てはまりの悪さである逸脱度が4.5改善されたということです。尤度検定では、検定統計量でああるこの逸脱度の差が「4.5ぐりでは改善されていない」と言って良いのかどうかを調べます。"
   ]
  },
  {
   "cell_type": "markdown",
   "metadata": {},
   "source": [
    "- null hypothesis：一定モデル\n",
    "- alternative hipothesis：xモデル"
   ]
  },
  {
   "cell_type": "markdown",
   "metadata": {},
   "source": [
    "検定の流れ\n",
    "- 帰無仮説である一定モデルが正しいものだと仮定する\n",
    "- 観測データに一定モデルを当てはめると,β1＝2.06となったので、これは真のモデルとほぼ同じだと考えよう\n",
    "- ｋの真のモデルからデータを何度も生成して、そのたびにβ2=0とβ2≠0のモデルを当てはめれば、たくさんの$\\Delta D_{1,2}$が得られるから、$\\Delta D_{1,2}$の分布がわかるだろう。\n",
    "- そうすれば、一定モデルとxモデルの逸脱度の差が$\\Delta D_{1,2} \\geqq 4.5$となる確率Pが評価できる。"
   ]
  },
  {
   "cell_type": "markdown",
   "metadata": {},
   "source": [
    "平均7.85のポアソン乱数を100個用意する"
   ]
  },
  {
   "cell_type": "code",
   "execution_count": 30,
   "metadata": {
    "collapsed": false
   },
   "outputs": [
    {
     "name": "stdout",
     "output_type": "stream",
     "text": [
      "1.28171014051\n"
     ]
    }
   ],
   "source": [
    "data['y_rand'] = np.random.poisson(data.y.mean(),100)\n",
    "result_1 = sm.GLM(data.y_rand,data.x_c['const'],family=sm.families.Poisson()).fit()\n",
    "result_2 = sm.GLM(data.y_rand,data.x_c,family=sm.families.Poisson()).fit()\n",
    "deltaD = result_1.deviance - result_2.deviance\n",
    "print deltaD"
   ]
  },
  {
   "cell_type": "markdown",
   "metadata": {},
   "source": [
    "このように、体サイズxとなんの関係もなし、平均値一定のポアソン乱数であるデータに対しても、逸脱度の差が1.28となりました。「真のモデル」である一定モデルよりも、無意味な説明変数をもつxモデルのほうが当てはまりが良くなります。\n",
    "このようにして、「一定モデルが真のモデルある世界」での逸脱度の差がひとつ得られます。これはPB（パラメトリックブートストラップ法）の１スッテプであり、このステップを1000回ほど繰り返すと「検定統計量の分布」を予測できます。"
   ]
  },
  {
   "cell_type": "code",
   "execution_count": 42,
   "metadata": {
    "collapsed": true
   },
   "outputs": [],
   "source": [
    "def get_dd(data):\n",
    "    data['y_rand'] = np.random.poisson(data.y.mean(),100)\n",
    "    result = sm.GLM(data.y_rand,data.x_c,family=sm.families.Poisson()).fit()\n",
    "    return result.null_deviance - result.deviance\n",
    "\n",
    "def pb(data,n_bootstrap):\n",
    "    return np.array([get_dd(data) for i in range(n_bootstrap)])\n",
    "\n",
    "dd12 = pb(data,10000)"
   ]
  },
  {
   "cell_type": "code",
   "execution_count": 43,
   "metadata": {
    "collapsed": false
   },
   "outputs": [
    {
     "name": "stdout",
     "output_type": "stream",
     "text": [
      "count    1.000000e+04\n",
      "mean     1.013135e+00\n",
      "std      1.438992e+00\n",
      "min      1.449507e-11\n",
      "25%      1.003904e-01\n",
      "50%      4.617117e-01\n",
      "75%      1.319841e+00\n",
      "max      1.857792e+01\n",
      "dtype: float64\n"
     ]
    }
   ],
   "source": [
    "dd12 = pd.Series(dd12)\n",
    "print dd12.describe()"
   ]
  },
  {
   "cell_type": "code",
   "execution_count": 44,
   "metadata": {
    "collapsed": false
   },
   "outputs": [
    {
     "data": {
      "image/png": "[encoded data removed]",
      "text/plain": [
       "<matplotlib.figure.Figure at 0x7f0a11edb4d0>"
      ]
     },
     "metadata": {},
     "output_type": "display_data"
    }
   ],
   "source": [
    "plt.hist(dd12,bins=100)\n",
    "plt.xlabel('$\\Delta D_{1,2}$')\n",
    "plt.axvline(x=4.5,linestyle='--')\n",
    "plt.show()"
   ]
  },
  {
   "cell_type": "code",
   "execution_count": 45,
   "metadata": {
    "collapsed": false
   },
   "outputs": [
    {
     "data": {
      "text/plain": [
       "377"
      ]
     },
     "execution_count": 45,
     "metadata": {},
     "output_type": "execute_result"
    }
   ],
   "source": [
    "(dd12 >= 4.5).sum()"
   ]
  },
  {
   "cell_type": "markdown",
   "metadata": {},
   "source": [
    "よって1000個中34個が4.5より大きいことがわかりました。つまり、P=0.034"
   ]
  },
  {
   "cell_type": "markdown",
   "metadata": {},
   "source": [
    "P=0.05となる逸脱度の差をしらべると・・・"
   ]
  },
  {
   "cell_type": "code",
   "execution_count": 46,
   "metadata": {
    "collapsed": false
   },
   "outputs": [
    {
     "data": {
      "text/plain": [
       "3.9917186971909548"
      ]
     },
     "execution_count": 46,
     "metadata": {},
     "output_type": "execute_result"
    }
   ],
   "source": [
    "dd12.quantile(0.95)"
   ]
  },
  {
   "cell_type": "code",
   "execution_count": null,
   "metadata": {
    "collapsed": true
   },
   "outputs": [],
   "source": []
  }
 ],
 "metadata": {
  "kernelspec": {
   "display_name": "Python 2",
   "language": "python",
   "name": "python2"
  },
  "language_info": {
   "codemirror_mode": {
    "name": "ipython",
    "version": 2
   },
   "file_extension": ".py",
   "mimetype": "text/x-python",
   "name": "python",
   "nbconvert_exporter": "python",
   "pygments_lexer": "ipython2",
   "version": "2.7.12"
  }
 },
 "nbformat": 4,
 "nbformat_minor": 0
}
