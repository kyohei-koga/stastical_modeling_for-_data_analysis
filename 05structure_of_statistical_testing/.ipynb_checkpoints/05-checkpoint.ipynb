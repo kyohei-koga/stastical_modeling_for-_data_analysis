{
 "cells": [
  {
   "cell_type": "markdown",
   "metadata": {},
   "source": [
    "どのような統計モデルでも利用可能な尤度比検定について説明する。これは逸脱度に注目する考え方で、ネストしているモデルたちを比較できる。"
   ]
  },
  {
   "cell_type": "markdown",
   "metadata": {},
   "source": [
    "### 5.1 統計学的な検定の枠組み\n",
    "単純モデルを帰無仮説、複雑モデルを対立仮説とする。\n",
    "\n",
    "帰無仮説とは「棄却されるための仮説」であり、「無に帰される」時にのみ、その役割を果たす特殊な統計モデルという位置づけです。"
   ]
  },
  {
   "cell_type": "markdown",
   "metadata": {},
   "source": [
    "統計モデルの検定の流れ。「帰無仮説は正しい」という命題を否定できるかどうか、その点だけを調べます。\n",
    "- モデルの当てはまりの良さなどを検定統計量に指定する。\n",
    "- 帰無仮説が「真のモデル」であると仮定して、その時に検定統計量の理論的なばらつき（確率分布）を調べて、検定統計量の値がとりうる「ありがちな範囲」を定める。\n",
    "- この「ありがちな範囲」の大きさが95%である場合は、5%の有意水準を設定したと言います。\n",
    "- 最後に対立仮説のモデルで得られた検定統計量が、この「ありがちな範囲」からはみ出ているかどうを確認し、もしはみでていれば帰無仮説は棄却され、対立仮説が支持されたと結論されます。"
   ]
  },
  {
   "cell_type": "markdown",
   "metadata": {},
   "source": [
    "この検定の枠組みをNeyman-Pearsonの検定の枠組みと呼ぶ。"
   ]
  },
  {
   "cell_type": "markdown",
   "metadata": {},
   "source": [
    "### 5.2尤度比検定の例題：逸脱度の差を調べる\n",
    "ここでは、一定モデルと、ｘモデルを比較し、一定モデルが棄却できるかどうかを調べていく"
   ]
  },
  {
   "cell_type": "code",
   "execution_count": 1,
   "metadata": {
    "collapsed": false
   },
   "outputs": [],
   "source": [
    "%matplotlib inline\n",
    "import pandas as pd\n",
    "import numpy as np\n",
    "import matplotlib.pyplot as plt\n",
    "import statsmodels.api as sm\n",
    "from scipy import stats"
   ]
  },
  {
   "cell_type": "code",
   "execution_count": 2,
   "metadata": {
    "collapsed": true
   },
   "outputs": [],
   "source": [
    "data = pd.read_csv('data3a.csv')"
   ]
  },
  {
   "cell_type": "code",
   "execution_count": 3,
   "metadata": {
    "collapsed": false
   },
   "outputs": [],
   "source": [
    "data['f_int'] = (data.f == 'T').astype(int)"
   ]
  },
  {
   "cell_type": "code",
   "execution_count": 4,
   "metadata": {
    "collapsed": false
   },
   "outputs": [
    {
     "name": "stdout",
     "output_type": "stream",
     "text": [
      "<class 'pandas.core.frame.DataFrame'>\n",
      "RangeIndex: 100 entries, 0 to 99\n",
      "Data columns (total 4 columns):\n",
      "y        100 non-null int64\n",
      "x        100 non-null float64\n",
      "f        100 non-null object\n",
      "f_int    100 non-null int64\n",
      "dtypes: float64(1), int64(2), object(1)\n",
      "memory usage: 3.2+ KB\n"
     ]
    }
   ],
   "source": [
    "data.info()"
   ]
  },
  {
   "cell_type": "code",
   "execution_count": 5,
   "metadata": {
    "collapsed": true
   },
   "outputs": [],
   "source": [
    "#フルモデル\n",
    "llh = np.sum([stats.poisson.logpmf(data.y,data.y)])\n",
    "deviance = -2*llh\n",
    "residual_deviance = 0.0\n",
    "AIC = -2*(llh - 100)\n",
    "summary = [['full model',100,llh,deviance,residual_deviance,AIC]]"
   ]
  },
  {
   "cell_type": "code",
   "execution_count": 6,
   "metadata": {
    "collapsed": true
   },
   "outputs": [],
   "source": [
    "data.x_c = sm.add_constant(data.x)"
   ]
  },
  {
   "cell_type": "code",
   "execution_count": 7,
   "metadata": {
    "collapsed": false
   },
   "outputs": [],
   "source": [
    "#一定モデル\n",
    "model1 = sm.GLM(data.y,data.x_c['const'],family=sm.families.Poisson())\n",
    "result_1 = model1.fit()\n",
    "summary.append(['const',result_1.df_model+1,result_1.llf,-2*result_1.llf,result_1.deviance,result_1.aic])\n",
    "#xモデル\n",
    "model2 = sm.GLM(data.y,data.x_c,family=sm.families.Poisson())\n",
    "result_2 = model2.fit()\n",
    "summary.append(['x model',result_2.df_model+1,result_2.llf,-2*result_2.llf,result_2.deviance,result_2.aic])"
   ]
  },
  {
   "cell_type": "code",
   "execution_count": 8,
   "metadata": {
    "collapsed": false,
    "scrolled": true
   },
   "outputs": [],
   "source": [
    "summary_frame = pd.DataFrame(summary,columns=['model','k','logL','deviance','resudual deviance','AIC'])"
   ]
  },
  {
   "cell_type": "code",
   "execution_count": 9,
   "metadata": {
    "collapsed": false
   },
   "outputs": [
    {
     "data": {
      "text/html": [
       "<div>\n",
       "<table border=\"1\" class=\"dataframe\">\n",
       "  <thead>\n",
       "    <tr style=\"text-align: right;\">\n",
       "      <th></th>\n",
       "      <th>model</th>\n",
       "      <th>k</th>\n",
       "      <th>logL</th>\n",
       "      <th>deviance</th>\n",
       "      <th>resudual deviance</th>\n",
       "      <th>AIC</th>\n",
       "    </tr>\n",
       "  </thead>\n",
       "  <tbody>\n",
       "    <tr>\n",
       "      <th>0</th>\n",
       "      <td>full model</td>\n",
       "      <td>100</td>\n",
       "      <td>-192.889753</td>\n",
       "      <td>385.779505</td>\n",
       "      <td>0.000000</td>\n",
       "      <td>585.779505</td>\n",
       "    </tr>\n",
       "    <tr>\n",
       "      <th>1</th>\n",
       "      <td>const</td>\n",
       "      <td>1</td>\n",
       "      <td>-237.643221</td>\n",
       "      <td>475.286443</td>\n",
       "      <td>89.506938</td>\n",
       "      <td>477.286443</td>\n",
       "    </tr>\n",
       "    <tr>\n",
       "      <th>2</th>\n",
       "      <td>x model</td>\n",
       "      <td>2</td>\n",
       "      <td>-235.386251</td>\n",
       "      <td>470.772502</td>\n",
       "      <td>84.992996</td>\n",
       "      <td>474.772502</td>\n",
       "    </tr>\n",
       "  </tbody>\n",
       "</table>\n",
       "</div>"
      ],
      "text/plain": [
       "        model    k        logL    deviance  resudual deviance         AIC\n",
       "0  full model  100 -192.889753  385.779505           0.000000  585.779505\n",
       "1       const    1 -237.643221  475.286443          89.506938  477.286443\n",
       "2     x model    2 -235.386251  470.772502          84.992996  474.772502"
      ]
     },
     "execution_count": 9,
     "metadata": {},
     "output_type": "execute_result"
    }
   ],
   "source": [
    "summary_frame.head()"
   ]
  },
  {
   "cell_type": "markdown",
   "metadata": {},
   "source": [
    "xモデルと一定モデルの逸脱度の差は4.5位です。\n",
    "尤度比とは以下の式で表せます。\n",
    "\n",
    "$$\\frac{L^{*}_{1}}{L^{*}_{2}} = \\frac{max\\ llh\\ of\\ const\\ model}{max\\ llh\\ of\\ x\\ model} = \\frac{exp(-237.6)}{exp(-235.4)}$$"
   ]
  },
  {
   "cell_type": "markdown",
   "metadata": {},
   "source": [
    "尤度比は上式をそのまま用いず、尤度比の対数をとって-2をかけた値を用いいます。つまり、逸脱度の差を検定統計量として使います。\n",
    "$$\\Delta D_{1,2}=-2\\times(logL^{*}_{1}-logL^{*}_{2})$$"
   ]
  },
  {
   "cell_type": "markdown",
   "metadata": {},
   "source": [
    "逸脱度の差は4.5改善されていますが、ここでは「4.5くらいでは改善されていない」と言って良いのかどうかを調べます。"
   ]
  },
  {
   "cell_type": "markdown",
   "metadata": {},
   "source": [
    "### 5.3 2種類の過誤と統計学的な検定の非対称性\n",
    "- 帰無仮説が真のモデルである場合：データが一定モデルから生成されたのに「逸脱度の差が4.5もあるんだからxモデルのほうがよい、帰無仮説は正しくない」と判断する第一種の過誤\n",
    "- 帰無仮説は真のモデルではない場合：データがxモデルから生成されたのに「逸脱度の差が4.5しかないんだからxモデルは意味もなく複雑、一定モデルで観測されたパターンで説明できるから帰無仮説は正しい。」\n",
    "\n",
    "Neyman-Pearsonの検定の枠組みでは、第一種の過誤の検討にだけ専念する。"
   ]
  },
  {
   "cell_type": "markdown",
   "metadata": {},
   "source": [
    "この例題の場合、実際の手順は以下の通り。\n",
    "\n",
    "- 帰無仮説である一定モデルが正しいと仮定する\n",
    "- 一定モデルのパラメータ=2.06は真のモデルとほぼ同じと考える。\n",
    "- この真のモデルからデータを何度も生成して、そのたびに逸脱度の差を計算し、分布を作る。\n",
    "- すると、逸脱度の差が$\\Delta D_{1,2}=4.5$となるい確率Pが評価できる。"
   ]
  },
  {
   "cell_type": "markdown",
   "metadata": {},
   "source": [
    "###  帰無仮説を棄却するための有意水準\n",
    "上記のPの値は、「第一の過誤を犯す確率である。」\n",
    "\n",
    "このPの値は自分で勝手に選ぶしかない。"
   ]
  },
  {
   "cell_type": "markdown",
   "metadata": {},
   "source": [
    "### 5.4.1汎用性のあるパラメトリックブートストラップ法\n",
    "いかなる面倒な状況でも必ずP値が計算できるパラメトリックブートストラップ法を説明する。"
   ]
  },
  {
   "cell_type": "markdown",
   "metadata": {},
   "source": [
    "平均7.85のポアソン乱数を100個用意する"
   ]
  },
  {
   "cell_type": "code",
   "execution_count": 10,
   "metadata": {
    "collapsed": false
   },
   "outputs": [
    {
     "name": "stdout",
     "output_type": "stream",
     "text": [
      "2.70683378851\n"
     ]
    }
   ],
   "source": [
    "np.random.seed(10)\n",
    "data['y_rand'] = np.random.poisson(data.y.mean(),100)\n",
    "result_1 = sm.GLM(data.y_rand,data.x_c['const'],family=sm.families.Poisson()).fit()\n",
    "result_2 = sm.GLM(data.y_rand,data.x_c,family=sm.families.Poisson()).fit()\n",
    "deltaD = result_1.deviance - result_2.deviance\n",
    "print deltaD"
   ]
  },
  {
   "cell_type": "markdown",
   "metadata": {},
   "source": [
    "このように、体サイズxとなんの関係もなし、平均値一定のポアソン乱数であるデータに対しても、逸脱度の差が2.7となりました。「真のモデル」である一定モデルよりも、無意味な説明変数をもつxモデルのほうが当てはまりが良くなります。\n",
    "このようにして、「一定モデルが真のモデルある世界」での逸脱度の差がひとつ得られます。これはPB（パラメトリックブートストラップ法）の１スッテプであり、このステップを1000回ほど繰り返すと「検定統計量の分布」を予測できます。"
   ]
  },
  {
   "cell_type": "code",
   "execution_count": 11,
   "metadata": {
    "collapsed": true
   },
   "outputs": [],
   "source": [
    "def get_dd(data):\n",
    "    data['y_rand'] = np.random.poisson(data.y.mean(),100)\n",
    "    result = sm.GLM(data.y_rand,data.x_c,family=sm.families.Poisson()).fit()\n",
    "    return result.null_deviance - result.deviance\n",
    "\n",
    "def pb(data,n_bootstrap):\n",
    "    return np.array([get_dd(data) for i in range(n_bootstrap)])\n",
    "\n",
    "dd12 = pb(data,10000)"
   ]
  },
  {
   "cell_type": "code",
   "execution_count": 12,
   "metadata": {
    "collapsed": false
   },
   "outputs": [
    {
     "name": "stdout",
     "output_type": "stream",
     "text": [
      "count    1.000000e+04\n",
      "mean     9.899338e-01\n",
      "std      1.391963e+00\n",
      "min      8.018162e-09\n",
      "25%      1.054329e-01\n",
      "50%      4.667647e-01\n",
      "75%      1.314633e+00\n",
      "max      1.935826e+01\n",
      "dtype: float64\n"
     ]
    }
   ],
   "source": [
    "dd12 = pd.Series(dd12)\n",
    "print dd12.describe()"
   ]
  },
  {
   "cell_type": "code",
   "execution_count": 13,
   "metadata": {
    "collapsed": false
   },
   "outputs": [
    {
     "data": {
      "image/png": "[encoded data removed]",
      "text/plain": [
       "<matplotlib.figure.Figure at 0x7fd40fc52950>"
      ]
     },
     "metadata": {},
     "output_type": "display_data"
    }
   ],
   "source": [
    "plt.hist(dd12,bins=100)\n",
    "plt.xlabel('$\\Delta D_{1,2}$')\n",
    "plt.axvline(x=4.5,linestyle='--')\n",
    "plt.show()"
   ]
  },
  {
   "cell_type": "code",
   "execution_count": 14,
   "metadata": {
    "collapsed": false
   },
   "outputs": [
    {
     "data": {
      "text/plain": [
       "324"
      ]
     },
     "execution_count": 14,
     "metadata": {},
     "output_type": "execute_result"
    }
   ],
   "source": [
    "(dd12 >= 4.5).sum()"
   ]
  },
  {
   "cell_type": "markdown",
   "metadata": {},
   "source": [
    "よって1000個中324個が4.5より大きいことがわかりました。つまり、P=0.032"
   ]
  },
  {
   "cell_type": "markdown",
   "metadata": {},
   "source": [
    "P=0.05となる逸脱度の差をしらべると・・・"
   ]
  },
  {
   "cell_type": "code",
   "execution_count": 15,
   "metadata": {
    "collapsed": false
   },
   "outputs": [
    {
     "data": {
      "text/plain": [
       "3.8103364321454825"
      ]
     },
     "execution_count": 15,
     "metadata": {},
     "output_type": "execute_result"
    }
   ],
   "source": [
    "dd12.quantile(0.95)"
   ]
  },
  {
   "cell_type": "markdown",
   "metadata": {},
   "source": [
    "有意水準5%の統計学検定の枠組みの基では$\\Delta D_{1,2}\\leq3.8$のぐらいまでは良くある差とみなされる。"
   ]
  },
  {
   "cell_type": "markdown",
   "metadata": {
    "collapsed": true
   },
   "source": [
    "### 5.4.2χ二乗分布を使った近似計算\n",
    "\n",
    "逸脱度の差$\\Delta D_{1,2}$は自由度１のχ二乗分布で近似できる場合がある。"
   ]
  },
  {
   "cell_type": "code",
   "execution_count": 20,
   "metadata": {
    "collapsed": false
   },
   "outputs": [],
   "source": [
    "P = stats.chi2.sf(x=4.5,df=1)"
   ]
  },
  {
   "cell_type": "code",
   "execution_count": 21,
   "metadata": {
    "collapsed": false
   },
   "outputs": [
    {
     "data": {
      "text/plain": [
       "0.033894853524689295"
      ]
     },
     "execution_count": 21,
     "metadata": {},
     "output_type": "execute_result"
    }
   ],
   "source": [
    "P"
   ]
  },
  {
   "cell_type": "markdown",
   "metadata": {},
   "source": [
    "逸脱度の差が4.5になる確率は0.034とない、帰無仮説は棄却されます。なお、カイ二乗分布近似はサンプルサイズが大きい場合に有効な近似計算であることに注意。"
   ]
  },
  {
   "cell_type": "markdown",
   "metadata": {},
   "source": [
    "## 5.5「帰無仮説を棄却できない」は「差がない」ではない。\n",
    "仮に$P\\geq0.05$となった場合、どのように結論つけるのであろう。答えは、「帰無仮説」は棄却できないとする。\n",
    "そして、この意味は帰無仮説・対立仮説のどちらも正しいとも正しくないともいえない、つまり判断を保留するということである。"
   ]
  },
  {
   "cell_type": "markdown",
   "metadata": {},
   "source": [
    "## 5.6検定とモデル選択、そして推定された統計モデルの解釈\n",
    "尤度比検定、AICはどちらも、逸脱度（あるいは、最大対数尤度）という統計量に注目しているが、目的とするところが全く異なる。\n",
    "\n",
    "尤度比検定などNeyman-Pearsonの枠組みのもとでの統計学的な検定の目的は、帰無仮説の安全な棄却です。"
   ]
  }
 ],
 "metadata": {
  "anaconda-cloud": {},
  "kernelspec": {
   "display_name": "Python [default]",
   "language": "python",
   "name": "python2"
  },
  "language_info": {
   "codemirror_mode": {
    "name": "ipython",
    "version": 2
   },
   "file_extension": ".py",
   "mimetype": "text/x-python",
   "name": "python",
   "nbconvert_exporter": "python",
   "pygments_lexer": "ipython2",
   "version": "2.7.12"
  }
 },
 "nbformat": 4,
 "nbformat_minor": 0
}
