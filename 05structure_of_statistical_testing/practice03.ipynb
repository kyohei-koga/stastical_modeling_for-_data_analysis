{
 "cells": [
  {
   "cell_type": "code",
   "execution_count": 1,
   "metadata": {
    "collapsed": true
   },
   "outputs": [],
   "source": [
    "%matplotlib inline\n",
    "import pandas as pd\n",
    "import numpy as np\n",
    "import matplotlib.pyplot as plt\n",
    "import statsmodels.api as sm\n",
    "from scipy import stats"
   ]
  },
  {
   "cell_type": "code",
   "execution_count": 2,
   "metadata": {
    "collapsed": true
   },
   "outputs": [],
   "source": [
    "data = pd.read_csv('data3a.csv')"
   ]
  },
  {
   "cell_type": "code",
   "execution_count": 3,
   "metadata": {
    "collapsed": true
   },
   "outputs": [],
   "source": [
    "data['f_int'] = (data.f=='T').astype(int)"
   ]
  },
  {
   "cell_type": "code",
   "execution_count": 4,
   "metadata": {
    "collapsed": false
   },
   "outputs": [
    {
     "name": "stdout",
     "output_type": "stream",
     "text": [
      "<class 'pandas.core.frame.DataFrame'>\n",
      "RangeIndex: 100 entries, 0 to 99\n",
      "Data columns (total 4 columns):\n",
      "y        100 non-null int64\n",
      "x        100 non-null float64\n",
      "f        100 non-null object\n",
      "f_int    100 non-null int64\n",
      "dtypes: float64(1), int64(2), object(1)\n",
      "memory usage: 3.2+ KB\n"
     ]
    }
   ],
   "source": [
    "data.info()"
   ]
  },
  {
   "cell_type": "code",
   "execution_count": 9,
   "metadata": {
    "collapsed": true
   },
   "outputs": [],
   "source": [
    "llh = np.sum(stats.poisson.logpmf(data.y,data.y))\n",
    "k = 100\n",
    "deviance = -2*llh\n",
    "residual_deviance = 0.\n",
    "aic = -2 * (llh - k)\n",
    "summary = [['full model',k,llh,deviance,residual_deviance,aic]]"
   ]
  },
  {
   "cell_type": "code",
   "execution_count": 10,
   "metadata": {
    "collapsed": true
   },
   "outputs": [],
   "source": [
    "data.x_c = sm.add_constant(data.x)"
   ]
  },
  {
   "cell_type": "code",
   "execution_count": 11,
   "metadata": {
    "collapsed": false
   },
   "outputs": [],
   "source": [
    "model1 = sm.GLM(data.y,data.x_c['const'],family=sm.families.Poisson())\n",
    "result_1 = model1.fit()\n",
    "summary.append(['const',result_1.df_model+1,result_1.llf,-2*result_1.llf,result_1.deviance,result_1.aic])"
   ]
  },
  {
   "cell_type": "code",
   "execution_count": 12,
   "metadata": {
    "collapsed": true
   },
   "outputs": [],
   "source": [
    "model2 = sm.GLM(data.y,data.x_c,family=sm.families.Poisson())\n",
    "result_2 = model2.fit()\n",
    "summary.append(['x',result_2.df_model+1,result_2.llf,-2*result_2.llf,result_2.deviance,result_2.aic])"
   ]
  },
  {
   "cell_type": "code",
   "execution_count": 13,
   "metadata": {
    "collapsed": true
   },
   "outputs": [],
   "source": [
    "summary_frame = pd.DataFrame(summary,columns=['model','k','logL','deviance','resudual deviance','AIC'])"
   ]
  },
  {
   "cell_type": "code",
   "execution_count": 14,
   "metadata": {
    "collapsed": false
   },
   "outputs": [
    {
     "data": {
      "text/html": [
       "<div>\n",
       "<table border=\"1\" class=\"dataframe\">\n",
       "  <thead>\n",
       "    <tr style=\"text-align: right;\">\n",
       "      <th></th>\n",
       "      <th>model</th>\n",
       "      <th>k</th>\n",
       "      <th>logL</th>\n",
       "      <th>deviance</th>\n",
       "      <th>resudual deviance</th>\n",
       "      <th>AIC</th>\n",
       "    </tr>\n",
       "  </thead>\n",
       "  <tbody>\n",
       "    <tr>\n",
       "      <th>0</th>\n",
       "      <td>full model</td>\n",
       "      <td>100</td>\n",
       "      <td>-192.889753</td>\n",
       "      <td>385.779505</td>\n",
       "      <td>0.000000</td>\n",
       "      <td>585.779505</td>\n",
       "    </tr>\n",
       "    <tr>\n",
       "      <th>1</th>\n",
       "      <td>const</td>\n",
       "      <td>1</td>\n",
       "      <td>-237.643221</td>\n",
       "      <td>475.286443</td>\n",
       "      <td>89.506938</td>\n",
       "      <td>477.286443</td>\n",
       "    </tr>\n",
       "    <tr>\n",
       "      <th>2</th>\n",
       "      <td>x</td>\n",
       "      <td>2</td>\n",
       "      <td>-235.386251</td>\n",
       "      <td>470.772502</td>\n",
       "      <td>84.992996</td>\n",
       "      <td>474.772502</td>\n",
       "    </tr>\n",
       "  </tbody>\n",
       "</table>\n",
       "</div>"
      ],
      "text/plain": [
       "        model    k        logL    deviance  resudual deviance         AIC\n",
       "0  full model  100 -192.889753  385.779505           0.000000  585.779505\n",
       "1       const    1 -237.643221  475.286443          89.506938  477.286443\n",
       "2           x    2 -235.386251  470.772502          84.992996  474.772502"
      ]
     },
     "execution_count": 14,
     "metadata": {},
     "output_type": "execute_result"
    }
   ],
   "source": [
    "summary_frame"
   ]
  },
  {
   "cell_type": "code",
   "execution_count": 18,
   "metadata": {
    "collapsed": false
   },
   "outputs": [
    {
     "data": {
      "text/plain": [
       "2.057962510002711"
      ]
     },
     "execution_count": 18,
     "metadata": {},
     "output_type": "execute_result"
    }
   ],
   "source": [
    "result_1.params[0]"
   ]
  },
  {
   "cell_type": "code",
   "execution_count": 39,
   "metadata": {
    "collapsed": false
   },
   "outputs": [
    {
     "name": "stdout",
     "output_type": "stream",
     "text": [
      "2.70683378851\n"
     ]
    }
   ],
   "source": [
    "np.random.seed(10)\n",
    "data['y_rand'] = np.random.poisson(data.y.mean(),100)\n",
    "result_1 = sm.GLM(data.y_rand,data.x_c['const'],family=sm.families.Poisson()).fit()\n",
    "result_2 = sm.GLM(data.y_rand,data.x_c,family=sm.families.Poisson()).fit()\n",
    "deltaD = -2 * (result_1.llf - result_2.llf)\n",
    "print deltaD"
   ]
  },
  {
   "cell_type": "code",
   "execution_count": 40,
   "metadata": {
    "collapsed": false
   },
   "outputs": [],
   "source": [
    "def get_dd(data):\n",
    "    data['y_rand'] = np.random.poisson(data.y.mean(),100)\n",
    "    result = sm.GLM(data.y_rand,data.x_c,family=sm.families.Poisson()).fit()\n",
    "    return result.null_deviance - result.deviance\n",
    "\n",
    "def pb(data,n_bootstrap):\n",
    "    return np.array([get_dd(data) for i in range(n_bootstrap)])\n",
    "\n",
    "dd12 = pb(data,10000)"
   ]
  },
  {
   "cell_type": "code",
   "execution_count": 41,
   "metadata": {
    "collapsed": false
   },
   "outputs": [
    {
     "data": {
      "text/plain": [
       "count    1.000000e+04\n",
       "mean     9.899338e-01\n",
       "std      1.391963e+00\n",
       "min      8.017381e-09\n",
       "25%      1.054329e-01\n",
       "50%      4.667647e-01\n",
       "75%      1.314633e+00\n",
       "max      1.935826e+01\n",
       "dtype: float64"
      ]
     },
     "execution_count": 41,
     "metadata": {},
     "output_type": "execute_result"
    }
   ],
   "source": [
    "dd12= pd.Series(dd12)\n",
    "dd12.describe()"
   ]
  },
  {
   "cell_type": "code",
   "execution_count": 32,
   "metadata": {
    "collapsed": false
   },
   "outputs": [
    {
     "data": {
      "image/png": "[encoded data removed]",
      "text/plain": [
       "<matplotlib.figure.Figure at 0x7f5fcfd10590>"
      ]
     },
     "metadata": {},
     "output_type": "display_data"
    }
   ],
   "source": [
    "plt.hist(dd12,bins=100)\n",
    "plt.axvline(x=4.5,ls='--',c='r')\n",
    "plt.show()"
   ]
  },
  {
   "cell_type": "code",
   "execution_count": 37,
   "metadata": {
    "collapsed": false
   },
   "outputs": [
    {
     "data": {
      "text/plain": [
       "8125"
      ]
     },
     "execution_count": 37,
     "metadata": {},
     "output_type": "execute_result"
    }
   ],
   "source": [
    "np.sum((dd12)> 0.05)"
   ]
  },
  {
   "cell_type": "code",
   "execution_count": 42,
   "metadata": {
    "collapsed": false
   },
   "outputs": [
    {
     "data": {
      "text/plain": [
       "3.8103364321474635"
      ]
     },
     "execution_count": 42,
     "metadata": {},
     "output_type": "execute_result"
    }
   ],
   "source": [
    "dd12.quantile(0.95)"
   ]
  },
  {
   "cell_type": "code",
   "execution_count": null,
   "metadata": {
    "collapsed": true
   },
   "outputs": [],
   "source": [
    "P = stats.chi2.sf(x=4.5,df=)"
   ]
  }
 ],
 "metadata": {
  "anaconda-cloud": {},
  "kernelspec": {
   "display_name": "Python [conda root]",
   "language": "python",
   "name": "conda-root-py"
  },
  "language_info": {
   "codemirror_mode": {
    "name": "ipython",
    "version": 2
   },
   "file_extension": ".py",
   "mimetype": "text/x-python",
   "name": "python",
   "nbconvert_exporter": "python",
   "pygments_lexer": "ipython2",
   "version": "2.7.12"
  }
 },
 "nbformat": 4,
 "nbformat_minor": 1
}
