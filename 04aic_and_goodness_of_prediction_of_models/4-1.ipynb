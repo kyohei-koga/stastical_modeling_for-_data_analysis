{
 "cells": [
  {
   "cell_type": "code",
   "execution_count": 1,
   "metadata": {
    "collapsed": false
   },
   "outputs": [],
   "source": [
    "import pandas as pd\n",
    "import numpy as np\n",
    "import statsmodels.api as sm\n",
    "import statsmodels\n",
    "import matplotlib.pyplot as plt\n",
    "from scipy import stats\n",
    "%matplotlib inline"
   ]
  },
  {
   "cell_type": "code",
   "execution_count": 2,
   "metadata": {
    "collapsed": true
   },
   "outputs": [],
   "source": [
    "data = pd.read_csv('data3a.csv')"
   ]
  },
  {
   "cell_type": "code",
   "execution_count": 3,
   "metadata": {
    "collapsed": false
   },
   "outputs": [],
   "source": [
    "data['f_int'] = (data['f'] == 'T').astype(int)"
   ]
  },
  {
   "cell_type": "markdown",
   "metadata": {},
   "source": [
    "パラメータ数7の多項式回帰（ポアソン回帰）\n",
    "\n",
    "「あてはまり」を改善したいのであれば、モデルをどんどん複雑にしていけば良い。"
   ]
  },
  {
   "cell_type": "code",
   "execution_count": 4,
   "metadata": {
    "collapsed": true
   },
   "outputs": [],
   "source": [
    "data['x^2'] = data['x']**2\n",
    "data['x^3'] = data['x']**3\n",
    "data['x^4'] = data['x']**4\n",
    "data['x^5'] = data['x']**5\n",
    "data['x^6'] = data['x']**6"
   ]
  },
  {
   "cell_type": "code",
   "execution_count": 5,
   "metadata": {
    "collapsed": false
   },
   "outputs": [],
   "source": [
    "data.x_c = sm.add_constant(data[['x','x^2','x^3','x^4','x^5','x^6']])"
   ]
  },
  {
   "cell_type": "code",
   "execution_count": 6,
   "metadata": {
    "collapsed": false
   },
   "outputs": [
    {
     "data": {
      "text/html": [
       "<table class=\"simpletable\">\n",
       "<caption>Generalized Linear Model Regression Results</caption>\n",
       "<tr>\n",
       "  <th>Dep. Variable:</th>          <td>y</td>        <th>  No. Observations:  </th>  <td>   100</td> \n",
       "</tr>\n",
       "<tr>\n",
       "  <th>Model:</th>                 <td>GLM</td>       <th>  Df Residuals:      </th>  <td>    93</td> \n",
       "</tr>\n",
       "<tr>\n",
       "  <th>Model Family:</th>        <td>Poisson</td>     <th>  Df Model:          </th>  <td>     6</td> \n",
       "</tr>\n",
       "<tr>\n",
       "  <th>Link Function:</th>         <td>log</td>       <th>  Scale:             </th>    <td>1.0</td>  \n",
       "</tr>\n",
       "<tr>\n",
       "  <th>Method:</th>               <td>IRLS</td>       <th>  Log-Likelihood:    </th> <td> -232.58</td>\n",
       "</tr>\n",
       "<tr>\n",
       "  <th>Date:</th>           <td>Sun, 22 Jan 2017</td> <th>  Deviance:          </th> <td>  79.387</td>\n",
       "</tr>\n",
       "<tr>\n",
       "  <th>Time:</th>               <td>22:55:45</td>     <th>  Pearson chi2:      </th>  <td>  76.7</td> \n",
       "</tr>\n",
       "<tr>\n",
       "  <th>No. Iterations:</th>        <td>100</td>       <th>                     </th>     <td> </td>   \n",
       "</tr>\n",
       "</table>\n",
       "<table class=\"simpletable\">\n",
       "<tr>\n",
       "    <td></td>       <th>coef</th>     <th>std err</th>      <th>z</th>      <th>P>|z|</th> <th>[95.0% Conf. Int.]</th> \n",
       "</tr>\n",
       "<tr>\n",
       "  <th>const</th> <td> 8185.6246</td> <td> 7764.788</td> <td>    1.054</td> <td> 0.292</td> <td>-7033.079  2.34e+04</td>\n",
       "</tr>\n",
       "<tr>\n",
       "  <th>x</th>     <td>-4980.3818</td> <td> 4833.716</td> <td>   -1.030</td> <td> 0.303</td> <td>-1.45e+04  4493.528</td>\n",
       "</tr>\n",
       "<tr>\n",
       "  <th>x^2</th>   <td> 1251.8054</td> <td> 1245.520</td> <td>    1.005</td> <td> 0.315</td> <td>-1189.369  3692.980</td>\n",
       "</tr>\n",
       "<tr>\n",
       "  <th>x^3</th>   <td> -166.4112</td> <td>  170.083</td> <td>   -0.978</td> <td> 0.328</td> <td> -499.768   166.945</td>\n",
       "</tr>\n",
       "<tr>\n",
       "  <th>x^4</th>   <td>   12.3450</td> <td>   12.985</td> <td>    0.951</td> <td> 0.342</td> <td>  -13.105    37.795</td>\n",
       "</tr>\n",
       "<tr>\n",
       "  <th>x^5</th>   <td>   -0.4847</td> <td>    0.526</td> <td>   -0.922</td> <td> 0.356</td> <td>   -1.515     0.545</td>\n",
       "</tr>\n",
       "<tr>\n",
       "  <th>x^6</th>   <td>    0.0079</td> <td>    0.009</td> <td>    0.893</td> <td> 0.372</td> <td>   -0.009     0.025</td>\n",
       "</tr>\n",
       "</table>"
      ],
      "text/plain": [
       "<class 'statsmodels.iolib.summary.Summary'>\n",
       "\"\"\"\n",
       "                 Generalized Linear Model Regression Results                  \n",
       "==============================================================================\n",
       "Dep. Variable:                      y   No. Observations:                  100\n",
       "Model:                            GLM   Df Residuals:                       93\n",
       "Model Family:                 Poisson   Df Model:                            6\n",
       "Link Function:                    log   Scale:                             1.0\n",
       "Method:                          IRLS   Log-Likelihood:                -232.58\n",
       "Date:                Sun, 22 Jan 2017   Deviance:                       79.387\n",
       "Time:                        22:55:45   Pearson chi2:                     76.7\n",
       "No. Iterations:                   100                                         \n",
       "==============================================================================\n",
       "                 coef    std err          z      P>|z|      [95.0% Conf. Int.]\n",
       "------------------------------------------------------------------------------\n",
       "const       8185.6246   7764.788      1.054      0.292     -7033.079  2.34e+04\n",
       "x          -4980.3818   4833.716     -1.030      0.303     -1.45e+04  4493.528\n",
       "x^2         1251.8054   1245.520      1.005      0.315     -1189.369  3692.980\n",
       "x^3         -166.4112    170.083     -0.978      0.328      -499.768   166.945\n",
       "x^4           12.3450     12.985      0.951      0.342       -13.105    37.795\n",
       "x^5           -0.4847      0.526     -0.922      0.356        -1.515     0.545\n",
       "x^6            0.0079      0.009      0.893      0.372        -0.009     0.025\n",
       "==============================================================================\n",
       "\"\"\""
      ]
     },
     "execution_count": 6,
     "metadata": {},
     "output_type": "execute_result"
    }
   ],
   "source": [
    "model = sm.GLM(data.y,data.x_c,family=sm.families.Poisson())\n",
    "model.fit().summary()"
   ]
  },
  {
   "cell_type": "code",
   "execution_count": 7,
   "metadata": {
    "collapsed": false
   },
   "outputs": [
    {
     "data": {
      "image/png": "[encoded data removed]",
      "text/plain": [
       "<matplotlib.figure.Figure at 0x7ff24c4ce450>"
      ]
     },
     "metadata": {},
     "output_type": "display_data"
    }
   ],
   "source": [
    "plt.scatter(data.x,data.y,facecolors='none')\n",
    "plt.scatter(data.x,model.fit().predict(data.x_c),)\n",
    "plt.show()"
   ]
  },
  {
   "cell_type": "markdown",
   "metadata": {},
   "source": [
    "### データはひとつ、モデルはたくさん\n",
    "\n",
    "- 一定モデル\n",
    "- fモデル\n",
    "- xモデル\n",
    "- x+fモデル"
   ]
  },
  {
   "cell_type": "markdown",
   "metadata": {},
   "source": [
    "一定モデル"
   ]
  },
  {
   "cell_type": "code",
   "execution_count": 8,
   "metadata": {
    "collapsed": false,
    "scrolled": true
   },
   "outputs": [
    {
     "data": {
      "text/html": [
       "<table class=\"simpletable\">\n",
       "<caption>Generalized Linear Model Regression Results</caption>\n",
       "<tr>\n",
       "  <th>Dep. Variable:</th>          <td>y</td>        <th>  No. Observations:  </th>  <td>   100</td> \n",
       "</tr>\n",
       "<tr>\n",
       "  <th>Model:</th>                 <td>GLM</td>       <th>  Df Residuals:      </th>  <td>    99</td> \n",
       "</tr>\n",
       "<tr>\n",
       "  <th>Model Family:</th>        <td>Poisson</td>     <th>  Df Model:          </th>  <td>     0</td> \n",
       "</tr>\n",
       "<tr>\n",
       "  <th>Link Function:</th>         <td>log</td>       <th>  Scale:             </th>    <td>1.0</td>  \n",
       "</tr>\n",
       "<tr>\n",
       "  <th>Method:</th>               <td>IRLS</td>       <th>  Log-Likelihood:    </th> <td> -237.64</td>\n",
       "</tr>\n",
       "<tr>\n",
       "  <th>Date:</th>           <td>Thu, 19 Jan 2017</td> <th>  Deviance:          </th> <td>  89.507</td>\n",
       "</tr>\n",
       "<tr>\n",
       "  <th>Time:</th>               <td>23:17:00</td>     <th>  Pearson chi2:      </th>  <td>  87.1</td> \n",
       "</tr>\n",
       "<tr>\n",
       "  <th>No. Iterations:</th>         <td>7</td>        <th>                     </th>     <td> </td>   \n",
       "</tr>\n",
       "</table>\n",
       "<table class=\"simpletable\">\n",
       "<tr>\n",
       "    <td></td>       <th>coef</th>     <th>std err</th>      <th>z</th>      <th>P>|z|</th> <th>[95.0% Conf. Int.]</th> \n",
       "</tr>\n",
       "<tr>\n",
       "  <th>const</th> <td>    2.0580</td> <td>    0.036</td> <td>   57.586</td> <td> 0.000</td> <td>    1.988     2.128</td>\n",
       "</tr>\n",
       "</table>"
      ],
      "text/plain": [
       "<class 'statsmodels.iolib.summary.Summary'>\n",
       "\"\"\"\n",
       "                 Generalized Linear Model Regression Results                  \n",
       "==============================================================================\n",
       "Dep. Variable:                      y   No. Observations:                  100\n",
       "Model:                            GLM   Df Residuals:                       99\n",
       "Model Family:                 Poisson   Df Model:                            0\n",
       "Link Function:                    log   Scale:                             1.0\n",
       "Method:                          IRLS   Log-Likelihood:                -237.64\n",
       "Date:                Thu, 19 Jan 2017   Deviance:                       89.507\n",
       "Time:                        23:17:00   Pearson chi2:                     87.1\n",
       "No. Iterations:                     7                                         \n",
       "==============================================================================\n",
       "                 coef    std err          z      P>|z|      [95.0% Conf. Int.]\n",
       "------------------------------------------------------------------------------\n",
       "const          2.0580      0.036     57.586      0.000         1.988     2.128\n",
       "==============================================================================\n",
       "\"\"\""
      ]
     },
     "execution_count": 8,
     "metadata": {},
     "output_type": "execute_result"
    }
   ],
   "source": [
    "model = sm.GLM(data.y,data.x_c['const'],family=sm.families.Poisson())\n",
    "model.fit().summary()"
   ]
  },
  {
   "cell_type": "code",
   "execution_count": 9,
   "metadata": {
    "collapsed": false
   },
   "outputs": [
    {
     "data": {
      "image/png": "[encoded data removed]",
      "text/plain": [
       "<matplotlib.figure.Figure at 0x7ff249bb3b10>"
      ]
     },
     "metadata": {},
     "output_type": "display_data"
    }
   ],
   "source": [
    "x=np.arange(min(data.x),max(data.x),1)\n",
    "plt.scatter(data.x,data.y,facecolors='none')\n",
    "plt.plot(data.x,model.fit().predict(data.x_c['const']),)\n",
    "plt.show()"
   ]
  },
  {
   "cell_type": "markdown",
   "metadata": {},
   "source": [
    "fモデル"
   ]
  },
  {
   "cell_type": "code",
   "execution_count": 10,
   "metadata": {
    "collapsed": false
   },
   "outputs": [
    {
     "data": {
      "text/html": [
       "<table class=\"simpletable\">\n",
       "<caption>Generalized Linear Model Regression Results</caption>\n",
       "<tr>\n",
       "  <th>Dep. Variable:</th>          <td>y</td>        <th>  No. Observations:  </th>  <td>   100</td> \n",
       "</tr>\n",
       "<tr>\n",
       "  <th>Model:</th>                 <td>GLM</td>       <th>  Df Residuals:      </th>  <td>    98</td> \n",
       "</tr>\n",
       "<tr>\n",
       "  <th>Model Family:</th>        <td>Poisson</td>     <th>  Df Model:          </th>  <td>     1</td> \n",
       "</tr>\n",
       "<tr>\n",
       "  <th>Link Function:</th>         <td>log</td>       <th>  Scale:             </th>    <td>1.0</td>  \n",
       "</tr>\n",
       "<tr>\n",
       "  <th>Method:</th>               <td>IRLS</td>       <th>  Log-Likelihood:    </th> <td> -237.63</td>\n",
       "</tr>\n",
       "<tr>\n",
       "  <th>Date:</th>           <td>Thu, 19 Jan 2017</td> <th>  Deviance:          </th> <td>  89.475</td>\n",
       "</tr>\n",
       "<tr>\n",
       "  <th>Time:</th>               <td>23:17:01</td>     <th>  Pearson chi2:      </th>  <td>  87.1</td> \n",
       "</tr>\n",
       "<tr>\n",
       "  <th>No. Iterations:</th>         <td>7</td>        <th>                     </th>     <td> </td>   \n",
       "</tr>\n",
       "</table>\n",
       "<table class=\"simpletable\">\n",
       "<tr>\n",
       "    <td></td>       <th>coef</th>     <th>std err</th>      <th>z</th>      <th>P>|z|</th> <th>[95.0% Conf. Int.]</th> \n",
       "</tr>\n",
       "<tr>\n",
       "  <th>const</th> <td>    2.0516</td> <td>    0.051</td> <td>   40.463</td> <td> 0.000</td> <td>    1.952     2.151</td>\n",
       "</tr>\n",
       "<tr>\n",
       "  <th>f_int</th> <td>    0.0128</td> <td>    0.071</td> <td>    0.179</td> <td> 0.858</td> <td>   -0.127     0.153</td>\n",
       "</tr>\n",
       "</table>"
      ],
      "text/plain": [
       "<class 'statsmodels.iolib.summary.Summary'>\n",
       "\"\"\"\n",
       "                 Generalized Linear Model Regression Results                  \n",
       "==============================================================================\n",
       "Dep. Variable:                      y   No. Observations:                  100\n",
       "Model:                            GLM   Df Residuals:                       98\n",
       "Model Family:                 Poisson   Df Model:                            1\n",
       "Link Function:                    log   Scale:                             1.0\n",
       "Method:                          IRLS   Log-Likelihood:                -237.63\n",
       "Date:                Thu, 19 Jan 2017   Deviance:                       89.475\n",
       "Time:                        23:17:01   Pearson chi2:                     87.1\n",
       "No. Iterations:                     7                                         \n",
       "==============================================================================\n",
       "                 coef    std err          z      P>|z|      [95.0% Conf. Int.]\n",
       "------------------------------------------------------------------------------\n",
       "const          2.0516      0.051     40.463      0.000         1.952     2.151\n",
       "f_int          0.0128      0.071      0.179      0.858        -0.127     0.153\n",
       "==============================================================================\n",
       "\"\"\""
      ]
     },
     "execution_count": 10,
     "metadata": {},
     "output_type": "execute_result"
    }
   ],
   "source": [
    "data.x_c= sm.add_constant(data.f_int)\n",
    "model = sm.GLM(data.y,data.x_c,family=sm.families.Poisson())\n",
    "result = model.fit()\n",
    "result.summary()"
   ]
  },
  {
   "cell_type": "code",
   "execution_count": 11,
   "metadata": {
    "collapsed": false,
    "scrolled": true
   },
   "outputs": [
    {
     "data": {
      "text/plain": [
       "<matplotlib.legend.Legend at 0x7ff249608690>"
      ]
     },
     "execution_count": 11,
     "metadata": {},
     "output_type": "execute_result"
    },
    {
     "data": {
      "image/png": "[encoded data removed]",
      "text/plain": [
       "<matplotlib.figure.Figure at 0x7ff2497b09d0>"
      ]
     },
     "metadata": {},
     "output_type": "display_data"
    }
   ],
   "source": [
    "x = np.arange(7,13,0.1)\n",
    "y = np.ones(x.shape)\n",
    "plt.plot(x,y*np.exp(2.0516+0.0128),label='T')\n",
    "plt.plot(x,y*np.exp(2.0516),label='C')\n",
    "plt.ylim(6,11)\n",
    "plt.legend()"
   ]
  },
  {
   "cell_type": "markdown",
   "metadata": {},
   "source": [
    "xモデル"
   ]
  },
  {
   "cell_type": "code",
   "execution_count": 12,
   "metadata": {
    "collapsed": false
   },
   "outputs": [
    {
     "data": {
      "text/html": [
       "<table class=\"simpletable\">\n",
       "<caption>Generalized Linear Model Regression Results</caption>\n",
       "<tr>\n",
       "  <th>Dep. Variable:</th>          <td>y</td>        <th>  No. Observations:  </th>  <td>   100</td> \n",
       "</tr>\n",
       "<tr>\n",
       "  <th>Model:</th>                 <td>GLM</td>       <th>  Df Residuals:      </th>  <td>    98</td> \n",
       "</tr>\n",
       "<tr>\n",
       "  <th>Model Family:</th>        <td>Poisson</td>     <th>  Df Model:          </th>  <td>     1</td> \n",
       "</tr>\n",
       "<tr>\n",
       "  <th>Link Function:</th>         <td>log</td>       <th>  Scale:             </th>    <td>1.0</td>  \n",
       "</tr>\n",
       "<tr>\n",
       "  <th>Method:</th>               <td>IRLS</td>       <th>  Log-Likelihood:    </th> <td> -235.39</td>\n",
       "</tr>\n",
       "<tr>\n",
       "  <th>Date:</th>           <td>Thu, 19 Jan 2017</td> <th>  Deviance:          </th> <td>  84.993</td>\n",
       "</tr>\n",
       "<tr>\n",
       "  <th>Time:</th>               <td>23:17:01</td>     <th>  Pearson chi2:      </th>  <td>  83.8</td> \n",
       "</tr>\n",
       "<tr>\n",
       "  <th>No. Iterations:</th>         <td>7</td>        <th>                     </th>     <td> </td>   \n",
       "</tr>\n",
       "</table>\n",
       "<table class=\"simpletable\">\n",
       "<tr>\n",
       "    <td></td>       <th>coef</th>     <th>std err</th>      <th>z</th>      <th>P>|z|</th> <th>[95.0% Conf. Int.]</th> \n",
       "</tr>\n",
       "<tr>\n",
       "  <th>const</th> <td>    1.2917</td> <td>    0.364</td> <td>    3.552</td> <td> 0.000</td> <td>    0.579     2.005</td>\n",
       "</tr>\n",
       "<tr>\n",
       "  <th>x</th>     <td>    0.0757</td> <td>    0.036</td> <td>    2.125</td> <td> 0.034</td> <td>    0.006     0.145</td>\n",
       "</tr>\n",
       "</table>"
      ],
      "text/plain": [
       "<class 'statsmodels.iolib.summary.Summary'>\n",
       "\"\"\"\n",
       "                 Generalized Linear Model Regression Results                  \n",
       "==============================================================================\n",
       "Dep. Variable:                      y   No. Observations:                  100\n",
       "Model:                            GLM   Df Residuals:                       98\n",
       "Model Family:                 Poisson   Df Model:                            1\n",
       "Link Function:                    log   Scale:                             1.0\n",
       "Method:                          IRLS   Log-Likelihood:                -235.39\n",
       "Date:                Thu, 19 Jan 2017   Deviance:                       84.993\n",
       "Time:                        23:17:01   Pearson chi2:                     83.8\n",
       "No. Iterations:                     7                                         \n",
       "==============================================================================\n",
       "                 coef    std err          z      P>|z|      [95.0% Conf. Int.]\n",
       "------------------------------------------------------------------------------\n",
       "const          1.2917      0.364      3.552      0.000         0.579     2.005\n",
       "x              0.0757      0.036      2.125      0.034         0.006     0.145\n",
       "==============================================================================\n",
       "\"\"\""
      ]
     },
     "execution_count": 12,
     "metadata": {},
     "output_type": "execute_result"
    }
   ],
   "source": [
    "data.x_c = sm.add_constant(data.x)\n",
    "model = sm.GLM(data.y,data.x_c,family=sm.families.Poisson())\n",
    "result = model.fit()\n",
    "result.summary()"
   ]
  },
  {
   "cell_type": "code",
   "execution_count": 13,
   "metadata": {
    "collapsed": false
   },
   "outputs": [
    {
     "data": {
      "text/plain": [
       "(6, 11)"
      ]
     },
     "execution_count": 13,
     "metadata": {},
     "output_type": "execute_result"
    },
    {
     "data": {
      "image/png": "[encoded data removed]",
      "text/plain": [
       "<matplotlib.figure.Figure at 0x7ff26e786390>"
      ]
     },
     "metadata": {},
     "output_type": "display_data"
    }
   ],
   "source": [
    "plt.plot(x,np.exp(1.2917+0.0757*x))\n",
    "plt.ylim(6,11)"
   ]
  },
  {
   "cell_type": "markdown",
   "metadata": {},
   "source": [
    "x+fモデル"
   ]
  },
  {
   "cell_type": "code",
   "execution_count": 14,
   "metadata": {
    "collapsed": false
   },
   "outputs": [
    {
     "data": {
      "text/html": [
       "<table class=\"simpletable\">\n",
       "<caption>Generalized Linear Model Regression Results</caption>\n",
       "<tr>\n",
       "  <th>Dep. Variable:</th>          <td>y</td>        <th>  No. Observations:  </th>  <td>   100</td> \n",
       "</tr>\n",
       "<tr>\n",
       "  <th>Model:</th>                 <td>GLM</td>       <th>  Df Residuals:      </th>  <td>    97</td> \n",
       "</tr>\n",
       "<tr>\n",
       "  <th>Model Family:</th>        <td>Poisson</td>     <th>  Df Model:          </th>  <td>     2</td> \n",
       "</tr>\n",
       "<tr>\n",
       "  <th>Link Function:</th>         <td>log</td>       <th>  Scale:             </th>    <td>1.0</td>  \n",
       "</tr>\n",
       "<tr>\n",
       "  <th>Method:</th>               <td>IRLS</td>       <th>  Log-Likelihood:    </th> <td> -235.29</td>\n",
       "</tr>\n",
       "<tr>\n",
       "  <th>Date:</th>           <td>Thu, 19 Jan 2017</td> <th>  Deviance:          </th> <td>  84.808</td>\n",
       "</tr>\n",
       "<tr>\n",
       "  <th>Time:</th>               <td>23:17:02</td>     <th>  Pearson chi2:      </th>  <td>  83.8</td> \n",
       "</tr>\n",
       "<tr>\n",
       "  <th>No. Iterations:</th>         <td>7</td>        <th>                     </th>     <td> </td>   \n",
       "</tr>\n",
       "</table>\n",
       "<table class=\"simpletable\">\n",
       "<tr>\n",
       "    <td></td>       <th>coef</th>     <th>std err</th>      <th>z</th>      <th>P>|z|</th> <th>[95.0% Conf. Int.]</th> \n",
       "</tr>\n",
       "<tr>\n",
       "  <th>const</th> <td>    1.2631</td> <td>    0.370</td> <td>    3.417</td> <td> 0.001</td> <td>    0.539     1.988</td>\n",
       "</tr>\n",
       "<tr>\n",
       "  <th>x</th>     <td>    0.0801</td> <td>    0.037</td> <td>    2.162</td> <td> 0.031</td> <td>    0.007     0.153</td>\n",
       "</tr>\n",
       "<tr>\n",
       "  <th>f_int</th> <td>   -0.0320</td> <td>    0.074</td> <td>   -0.430</td> <td> 0.667</td> <td>   -0.178     0.114</td>\n",
       "</tr>\n",
       "</table>"
      ],
      "text/plain": [
       "<class 'statsmodels.iolib.summary.Summary'>\n",
       "\"\"\"\n",
       "                 Generalized Linear Model Regression Results                  \n",
       "==============================================================================\n",
       "Dep. Variable:                      y   No. Observations:                  100\n",
       "Model:                            GLM   Df Residuals:                       97\n",
       "Model Family:                 Poisson   Df Model:                            2\n",
       "Link Function:                    log   Scale:                             1.0\n",
       "Method:                          IRLS   Log-Likelihood:                -235.29\n",
       "Date:                Thu, 19 Jan 2017   Deviance:                       84.808\n",
       "Time:                        23:17:02   Pearson chi2:                     83.8\n",
       "No. Iterations:                     7                                         \n",
       "==============================================================================\n",
       "                 coef    std err          z      P>|z|      [95.0% Conf. Int.]\n",
       "------------------------------------------------------------------------------\n",
       "const          1.2631      0.370      3.417      0.001         0.539     1.988\n",
       "x              0.0801      0.037      2.162      0.031         0.007     0.153\n",
       "f_int         -0.0320      0.074     -0.430      0.667        -0.178     0.114\n",
       "==============================================================================\n",
       "\"\"\""
      ]
     },
     "execution_count": 14,
     "metadata": {},
     "output_type": "execute_result"
    }
   ],
   "source": [
    "data.x_c = sm.add_constant(data[['x','f_int']])\n",
    "model = sm.GLM(data.y,data.x_c,sm.families.Poisson())\n",
    "result=model.fit()\n",
    "result.summary()"
   ]
  },
  {
   "cell_type": "code",
   "execution_count": 15,
   "metadata": {
    "collapsed": false
   },
   "outputs": [
    {
     "data": {
      "text/plain": [
       "<matplotlib.legend.Legend at 0x7ff24966b990>"
      ]
     },
     "execution_count": 15,
     "metadata": {},
     "output_type": "execute_result"
    },
    {
     "data": {
      "image/png": "[encoded data removed]",
      "text/plain": [
       "<matplotlib.figure.Figure at 0x7ff2495ce690>"
      ]
     },
     "metadata": {},
     "output_type": "display_data"
    }
   ],
   "source": [
    "plt.plot(x,np.exp(1.2631+0.0801*x-0.032),label='T')\n",
    "plt.plot(x,np.exp(1.2631+0.0801*x),label='C')\n",
    "plt.legend(loc='upper left')"
   ]
  },
  {
   "cell_type": "markdown",
   "metadata": {},
   "source": [
    "統計モデルのパラメータを推定した時に、対数尤度が「いま手元にある観測データへの当てはまりの良さ」であると考え、これを最大にするようなパラメータを探しました。この尤度から導かれれる当てはまりの良さが大きいほど良いモデルと言えるのではないか？\n",
    "\n",
    "それがそうでもない。"
   ]
  },
  {
   "cell_type": "markdown",
   "metadata": {},
   "source": [
    "### 逸脱度\n",
    "\n",
    "逸脱度とは当てはまりの悪さを表現する指標で以下のように定義される。$logL^{*}$は最大対数尤度\n",
    "\n",
    "$$D=-2logL^{*}$$\n",
    "\n"
   ]
  },
  {
   "cell_type": "markdown",
   "metadata": {},
   "source": [
    "xモデルの逸脱度\n",
    "\n",
    "xモデル:\n",
    "$$\\lambda = exp(1.2917+0.0757*x)$$\n",
    "\n",
    "この数値はstatsmodelで出てこない。出てくるのはあとで説明する残渣逸脱度の方"
   ]
  },
  {
   "cell_type": "code",
   "execution_count": 16,
   "metadata": {
    "collapsed": false
   },
   "outputs": [
    {
     "name": "stdout",
     "output_type": "stream",
     "text": [
      "470.772607763\n"
     ]
    }
   ],
   "source": [
    "#xモデルの最大対数尤度\n",
    "max_loglikelihood_x = np.sum(stats.poisson.logpmf(data.y,np.exp(1.2917+0.0757*data.x)))\n",
    "#xモデルの逸脱度\n",
    "D = -2 * max_loglikelihood_x\n",
    "print D"
   ]
  },
  {
   "cell_type": "markdown",
   "metadata": {},
   "source": [
    "### 残渣逸脱度\n",
    "\n",
    "残渣逸脱度は次式で表現される。$D-$（ポアソン分布モデルで可能な最小の逸脱度）\n",
    "ポアソン分布モデルで可能な最小の逸脱度とはフルモデルと呼ばれるモデルで計算される。フルモデルとはデータが100こあれば、パラメータを100個使って当てはめたモデルのことをいう。"
   ]
  },
  {
   "cell_type": "code",
   "execution_count": 17,
   "metadata": {
    "collapsed": false
   },
   "outputs": [
    {
     "name": "stdout",
     "output_type": "stream",
     "text": [
      "対数尤度：-192.889753\n",
      "最小の逸脱度:385.779505\n"
     ]
    }
   ],
   "source": [
    "from scipy import stats\n",
    "loglikewood_full = np.sum(np.log(stats.poisson.pmf(data.y,data.y))) #fullモデルの対数尤度\n",
    "deviance = -2*loglikewood_full\n",
    "print(\"対数尤度：%f\") %loglikewood_full\n",
    "print('最小の逸脱度:%f') %deviance"
   ]
  },
  {
   "cell_type": "code",
   "execution_count": 18,
   "metadata": {
    "collapsed": false
   },
   "outputs": [
    {
     "name": "stdout",
     "output_type": "stream",
     "text": [
      "84.9931027138\n"
     ]
    }
   ],
   "source": [
    "#xモデルの残渣逸脱度\n",
    "residual_deviance_xmodel = D - deviance\n",
    "print residual_deviance_xmodel"
   ]
  },
  {
   "cell_type": "markdown",
   "metadata": {},
   "source": [
    "このように、このケースにおいて残渣逸脱度とはとはフルモデルによる最小の逸脱度385.8を基準とする当てはまりの悪さの相対値である。\n",
    "\n",
    "なお、最も当てはまりの悪いモデルをnullモデルと呼ぶ。このデータでポアソン回帰を利用する場合、nullモデルはパラメータが定数だけのモデルを指す。"
   ]
  },
  {
   "cell_type": "markdown",
   "metadata": {},
   "source": [
    "### モデル選択基準AIC\n",
    "\n",
    "赤池情報基準（AIC）が一番小さいモデルが良いモデルとされる。\n",
    "\n",
    "AICは予測の良さを重視するモデル選択基準。別の言い方をすると汎化能力を重視するモデル選択基準である。\n",
    "\n",
    "最尤推定したパラメータの個数がk個のときAICは以下の式\n",
    "\n",
    "$AIC=-2${(最大対数尤度)-(最尤推定したパラメータ数)}\n",
    "\n",
    "$=-2(logL^{*}-k)$\n",
    "\n",
    "$=D+2k$"
   ]
  },
  {
   "cell_type": "code",
   "execution_count": 19,
   "metadata": {
    "collapsed": false
   },
   "outputs": [],
   "source": [
    "#結果を表にまとめる。\n",
    "#フルモデル\n",
    "log_likelihood = np.sum(stats.poisson.logpmf(data.y,data.y))\n",
    "deviance = -2*log_likelihood\n",
    "AIC = deviance + 2*100\n",
    "sumarry = [[['full'],100,log_likelihood,deviance,0.,AIC]]\n",
    "\n",
    "#一定モデル\n",
    "data.x_c = sm.add_constant(data.x)\n",
    "model = sm.GLM(data.y,data.x_c['const'],sm.families.Poisson())\n",
    "result = model.fit()\n",
    "sumarry.append([['const'],result.df_model+1,result.llf,-2*result.llf,result.deviance,result.aic])\n",
    "import itertools\n",
    "column = ['f_int','x']\n",
    "\n",
    "#x,f,x+fモデル\n",
    "for i in range(2):\n",
    "    for a in itertools.combinations(column,i+1):\n",
    "        a_array = a #モデル名\n",
    "        data.x_c = sm.add_constant(data[list(a_array)])\n",
    "        model = sm.GLM(data.y,data.x_c,sm.families.Poisson())\n",
    "        res = model.fit()\n",
    "        sumarry.append([list(a_array),res.df_model+1,res.llf,-2*res.llf,res.deviance,res.aic])\n",
    "result_table = pd.DataFrame(sumarry,columns=['model','k','logL','deviance','residual deviance','AIC'])"
   ]
  },
  {
   "cell_type": "code",
   "execution_count": 20,
   "metadata": {
    "collapsed": false
   },
   "outputs": [
    {
     "data": {
      "text/html": [
       "<div>\n",
       "<table border=\"1\" class=\"dataframe\">\n",
       "  <thead>\n",
       "    <tr style=\"text-align: right;\">\n",
       "      <th></th>\n",
       "      <th>model</th>\n",
       "      <th>k</th>\n",
       "      <th>logL</th>\n",
       "      <th>deviance</th>\n",
       "      <th>residual deviance</th>\n",
       "      <th>AIC</th>\n",
       "    </tr>\n",
       "  </thead>\n",
       "  <tbody>\n",
       "    <tr>\n",
       "      <th>0</th>\n",
       "      <td>[full]</td>\n",
       "      <td>100</td>\n",
       "      <td>-192.889753</td>\n",
       "      <td>385.779505</td>\n",
       "      <td>0.000000</td>\n",
       "      <td>585.779505</td>\n",
       "    </tr>\n",
       "    <tr>\n",
       "      <th>1</th>\n",
       "      <td>[const]</td>\n",
       "      <td>1</td>\n",
       "      <td>-237.643221</td>\n",
       "      <td>475.286443</td>\n",
       "      <td>89.506938</td>\n",
       "      <td>477.286443</td>\n",
       "    </tr>\n",
       "    <tr>\n",
       "      <th>2</th>\n",
       "      <td>[f_int]</td>\n",
       "      <td>2</td>\n",
       "      <td>-237.627257</td>\n",
       "      <td>475.254514</td>\n",
       "      <td>89.475009</td>\n",
       "      <td>479.254514</td>\n",
       "    </tr>\n",
       "    <tr>\n",
       "      <th>3</th>\n",
       "      <td>[x]</td>\n",
       "      <td>2</td>\n",
       "      <td>-235.386251</td>\n",
       "      <td>470.772502</td>\n",
       "      <td>84.992996</td>\n",
       "      <td>474.772502</td>\n",
       "    </tr>\n",
       "    <tr>\n",
       "      <th>4</th>\n",
       "      <td>[f_int, x]</td>\n",
       "      <td>3</td>\n",
       "      <td>-235.293719</td>\n",
       "      <td>470.587438</td>\n",
       "      <td>84.807933</td>\n",
       "      <td>476.587438</td>\n",
       "    </tr>\n",
       "  </tbody>\n",
       "</table>\n",
       "</div>"
      ],
      "text/plain": [
       "        model    k        logL    deviance  residual deviance         AIC\n",
       "0      [full]  100 -192.889753  385.779505           0.000000  585.779505\n",
       "1     [const]    1 -237.643221  475.286443          89.506938  477.286443\n",
       "2     [f_int]    2 -237.627257  475.254514          89.475009  479.254514\n",
       "3         [x]    2 -235.386251  470.772502          84.992996  474.772502\n",
       "4  [f_int, x]    3 -235.293719  470.587438          84.807933  476.587438"
      ]
     },
     "execution_count": 20,
     "metadata": {},
     "output_type": "execute_result"
    }
   ],
   "source": [
    "result_table"
   ]
  },
  {
   "cell_type": "markdown",
   "metadata": {},
   "source": [
    "### AICを説明するための別の問題\n",
    "\n",
    "AICはなぜ統計モデルの予測力を表しているのか、その理由について考える。"
   ]
  },
  {
   "cell_type": "code",
   "execution_count": 21,
   "metadata": {
    "collapsed": false
   },
   "outputs": [],
   "source": [
    "#データ作成。yとxは関係ない\n",
    "np.random.seed(2)\n",
    "y = np.random.poisson(8,50)\n",
    "x = np.random.uniform(-2,2,50)\n",
    "data = pd.DataFrame(np.array([y,x]).T,columns=['y','x'])"
   ]
  },
  {
   "cell_type": "code",
   "execution_count": 22,
   "metadata": {
    "collapsed": false
   },
   "outputs": [
    {
     "data": {
      "text/html": [
       "<table class=\"simpletable\">\n",
       "<caption>Generalized Linear Model Regression Results</caption>\n",
       "<tr>\n",
       "  <th>Dep. Variable:</th>          <td>y</td>        <th>  No. Observations:  </th>  <td>    50</td> \n",
       "</tr>\n",
       "<tr>\n",
       "  <th>Model:</th>                 <td>GLM</td>       <th>  Df Residuals:      </th>  <td>    48</td> \n",
       "</tr>\n",
       "<tr>\n",
       "  <th>Model Family:</th>        <td>Poisson</td>     <th>  Df Model:          </th>  <td>     1</td> \n",
       "</tr>\n",
       "<tr>\n",
       "  <th>Link Function:</th>         <td>log</td>       <th>  Scale:             </th>    <td>1.0</td>  \n",
       "</tr>\n",
       "<tr>\n",
       "  <th>Method:</th>               <td>IRLS</td>       <th>  Log-Likelihood:    </th> <td> -123.68</td>\n",
       "</tr>\n",
       "<tr>\n",
       "  <th>Date:</th>           <td>Thu, 19 Jan 2017</td> <th>  Deviance:          </th> <td>  54.666</td>\n",
       "</tr>\n",
       "<tr>\n",
       "  <th>Time:</th>               <td>23:17:03</td>     <th>  Pearson chi2:      </th>  <td>  54.4</td> \n",
       "</tr>\n",
       "<tr>\n",
       "  <th>No. Iterations:</th>         <td>7</td>        <th>                     </th>     <td> </td>   \n",
       "</tr>\n",
       "</table>\n",
       "<table class=\"simpletable\">\n",
       "<tr>\n",
       "    <td></td>       <th>coef</th>     <th>std err</th>      <th>z</th>      <th>P>|z|</th> <th>[95.0% Conf. Int.]</th> \n",
       "</tr>\n",
       "<tr>\n",
       "  <th>const</th> <td>    2.0754</td> <td>    0.051</td> <td>   40.708</td> <td> 0.000</td> <td>    1.975     2.175</td>\n",
       "</tr>\n",
       "<tr>\n",
       "  <th>x</th>     <td>   -0.0417</td> <td>    0.046</td> <td>   -0.913</td> <td> 0.361</td> <td>   -0.131     0.048</td>\n",
       "</tr>\n",
       "</table>"
      ],
      "text/plain": [
       "<class 'statsmodels.iolib.summary.Summary'>\n",
       "\"\"\"\n",
       "                 Generalized Linear Model Regression Results                  \n",
       "==============================================================================\n",
       "Dep. Variable:                      y   No. Observations:                   50\n",
       "Model:                            GLM   Df Residuals:                       48\n",
       "Model Family:                 Poisson   Df Model:                            1\n",
       "Link Function:                    log   Scale:                             1.0\n",
       "Method:                          IRLS   Log-Likelihood:                -123.68\n",
       "Date:                Thu, 19 Jan 2017   Deviance:                       54.666\n",
       "Time:                        23:17:03   Pearson chi2:                     54.4\n",
       "No. Iterations:                     7                                         \n",
       "==============================================================================\n",
       "                 coef    std err          z      P>|z|      [95.0% Conf. Int.]\n",
       "------------------------------------------------------------------------------\n",
       "const          2.0754      0.051     40.708      0.000         1.975     2.175\n",
       "x             -0.0417      0.046     -0.913      0.361        -0.131     0.048\n",
       "==============================================================================\n",
       "\"\"\""
      ]
     },
     "execution_count": 22,
     "metadata": {},
     "output_type": "execute_result"
    }
   ],
   "source": [
    "#xmodel\n",
    "data.x_c = sm.add_constant(data.x)\n",
    "model = sm.GLM(data.y,data.x_c,sm.families.Poisson())\n",
    "result = model.fit()\n",
    "result.summary()"
   ]
  },
  {
   "cell_type": "code",
   "execution_count": 23,
   "metadata": {
    "collapsed": false
   },
   "outputs": [
    {
     "data": {
      "text/plain": [
       "251.36653598406369"
      ]
     },
     "execution_count": 23,
     "metadata": {},
     "output_type": "execute_result"
    }
   ],
   "source": [
    "result.aic"
   ]
  },
  {
   "cell_type": "code",
   "execution_count": 24,
   "metadata": {
    "collapsed": false
   },
   "outputs": [
    {
     "data": {
      "text/html": [
       "<table class=\"simpletable\">\n",
       "<caption>Generalized Linear Model Regression Results</caption>\n",
       "<tr>\n",
       "  <th>Dep. Variable:</th>          <td>y</td>        <th>  No. Observations:  </th>  <td>    50</td> \n",
       "</tr>\n",
       "<tr>\n",
       "  <th>Model:</th>                 <td>GLM</td>       <th>  Df Residuals:      </th>  <td>    49</td> \n",
       "</tr>\n",
       "<tr>\n",
       "  <th>Model Family:</th>        <td>Poisson</td>     <th>  Df Model:          </th>  <td>     0</td> \n",
       "</tr>\n",
       "<tr>\n",
       "  <th>Link Function:</th>         <td>log</td>       <th>  Scale:             </th>    <td>1.0</td>  \n",
       "</tr>\n",
       "<tr>\n",
       "  <th>Method:</th>               <td>IRLS</td>       <th>  Log-Likelihood:    </th> <td> -124.10</td>\n",
       "</tr>\n",
       "<tr>\n",
       "  <th>Date:</th>           <td>Thu, 19 Jan 2017</td> <th>  Deviance:          </th> <td>  55.497</td>\n",
       "</tr>\n",
       "<tr>\n",
       "  <th>Time:</th>               <td>23:17:03</td>     <th>  Pearson chi2:      </th>  <td>  54.7</td> \n",
       "</tr>\n",
       "<tr>\n",
       "  <th>No. Iterations:</th>         <td>7</td>        <th>                     </th>     <td> </td>   \n",
       "</tr>\n",
       "</table>\n",
       "<table class=\"simpletable\">\n",
       "<tr>\n",
       "    <td></td>       <th>coef</th>     <th>std err</th>      <th>z</th>      <th>P>|z|</th> <th>[95.0% Conf. Int.]</th> \n",
       "</tr>\n",
       "<tr>\n",
       "  <th>const</th> <td>    2.0669</td> <td>    0.050</td> <td>   41.078</td> <td> 0.000</td> <td>    1.968     2.165</td>\n",
       "</tr>\n",
       "</table>"
      ],
      "text/plain": [
       "<class 'statsmodels.iolib.summary.Summary'>\n",
       "\"\"\"\n",
       "                 Generalized Linear Model Regression Results                  \n",
       "==============================================================================\n",
       "Dep. Variable:                      y   No. Observations:                   50\n",
       "Model:                            GLM   Df Residuals:                       49\n",
       "Model Family:                 Poisson   Df Model:                            0\n",
       "Link Function:                    log   Scale:                             1.0\n",
       "Method:                          IRLS   Log-Likelihood:                -124.10\n",
       "Date:                Thu, 19 Jan 2017   Deviance:                       55.497\n",
       "Time:                        23:17:03   Pearson chi2:                     54.7\n",
       "No. Iterations:                     7                                         \n",
       "==============================================================================\n",
       "                 coef    std err          z      P>|z|      [95.0% Conf. Int.]\n",
       "------------------------------------------------------------------------------\n",
       "const          2.0669      0.050     41.078      0.000         1.968     2.165\n",
       "==============================================================================\n",
       "\"\"\""
      ]
     },
     "execution_count": 24,
     "metadata": {},
     "output_type": "execute_result"
    }
   ],
   "source": [
    "#一定モデル\n",
    "model = sm.GLM(data.y,data.x_c['const'],sm.families.Poisson())\n",
    "result = model.fit()\n",
    "result.summary()"
   ]
  },
  {
   "cell_type": "code",
   "execution_count": 25,
   "metadata": {
    "collapsed": false
   },
   "outputs": [
    {
     "data": {
      "text/plain": [
       "250.197522947187"
      ]
     },
     "execution_count": 25,
     "metadata": {},
     "output_type": "execute_result"
    }
   ],
   "source": [
    "result.aic"
   ]
  },
  {
   "cell_type": "code",
   "execution_count": 26,
   "metadata": {
    "collapsed": false
   },
   "outputs": [
    {
     "data": {
      "text/plain": [
       "<matplotlib.legend.Legend at 0x7ff249bc7310>"
      ]
     },
     "execution_count": 26,
     "metadata": {},
     "output_type": "execute_result"
    },
    {
     "data": {
      "image/png": "[encoded data removed]",
      "text/plain": [
       "<matplotlib.figure.Figure at 0x7ff24951e850>"
      ]
     },
     "metadata": {},
     "output_type": "display_data"
    }
   ],
   "source": [
    "x = np.arange(-2.,2,0.1)\n",
    "plt.scatter(data.x,data.y,label='raw data')\n",
    "plt.plot(x,np.exp(-0.1006*x+2.0454),label='x_model')\n",
    "plt.plot(x,np.exp(2.049)*np.ones(x.shape[0]),label='const')\n",
    "plt.legend()"
   ]
  },
  {
   "cell_type": "markdown",
   "metadata": {},
   "source": [
    "aicの値は一定モデルのほうが小さいが、これはたまたまそうゆう観測データが得られたと考える。"
   ]
  },
  {
   "cell_type": "markdown",
   "metadata": {},
   "source": [
    "### 統計モデルの予測の良さ：平均対数尤度\n",
    "平均対数尤度は統計モデルの予測の良さを表す量です。\n",
    "予測の良さとは、次に同じデータ取得方法で別のデータを得た時に当該モデルはどれぐらいそれを正確に言い当てているかということ。"
   ]
  },
  {
   "cell_type": "code",
   "execution_count": 27,
   "metadata": {
    "collapsed": true
   },
   "outputs": [],
   "source": [
    "#推定モデルと真のモデルでの対数尤度を比較する。\n",
    "x = np.arange(1.8,2.2,0.01)\n",
    "loglikelihoods = np.array([np.sum(stats.poisson.logpmf(data.y,np.exp(i))) for i in x])"
   ]
  },
  {
   "cell_type": "code",
   "execution_count": 28,
   "metadata": {
    "collapsed": false
   },
   "outputs": [
    {
     "data": {
      "text/plain": [
       "<matplotlib.legend.Legend at 0x7ff2494dd390>"
      ]
     },
     "execution_count": 28,
     "metadata": {},
     "output_type": "execute_result"
    },
    {
     "data": {
      "image/png": "[encoded data removed]",
      "text/plain": [
       "<matplotlib.figure.Figure at 0x7ff249b11810>"
      ]
     },
     "metadata": {},
     "output_type": "display_data"
    }
   ],
   "source": [
    "plt.plot(x,loglikelihoods)\n",
    "plt.axvline(x[np.argmax(loglikelihoods)],c='r',ls='--',label='estimate')\n",
    "plt.axvline(np.log(8),label='True',ls='--',c='g')\n",
    "plt.legend(loc='upper left')"
   ]
  },
  {
   "cell_type": "markdown",
   "metadata": {},
   "source": [
    "真の統計モデル（平均＝8）に200セットのデータを生成させ、これらの予測の良さ評価用のデータたちに対して、すでに推定された一定モデル（b1=2.0669）の当てはまりの良さを対数尤度で評価する。これらの200この大数尤度の平均が平均尤度であある。"
   ]
  },
  {
   "cell_type": "markdown",
   "metadata": {},
   "source": [
    "### 最大対数尤度のバイアス補正\n",
    "前記の最大尤度は-124.10である"
   ]
  },
  {
   "cell_type": "code",
   "execution_count": 29,
   "metadata": {
    "collapsed": true
   },
   "outputs": [],
   "source": [
    "#データの準備\n",
    "test_data = np.random.poisson(8,[200,50])"
   ]
  },
  {
   "cell_type": "code",
   "execution_count": 30,
   "metadata": {
    "collapsed": false
   },
   "outputs": [
    {
     "data": {
      "text/plain": [
       "(200, 50)"
      ]
     },
     "execution_count": 30,
     "metadata": {},
     "output_type": "execute_result"
    }
   ],
   "source": [
    "test_data.shape"
   ]
  },
  {
   "cell_type": "code",
   "execution_count": 31,
   "metadata": {
    "collapsed": true
   },
   "outputs": [],
   "source": [
    "llh_test = np.array([np.sum(stats.poisson.logpmf(y,np.exp(2.0669))) for y in test_data])"
   ]
  },
  {
   "cell_type": "code",
   "execution_count": 32,
   "metadata": {
    "collapsed": false
   },
   "outputs": [
    {
     "data": {
      "text/plain": [
       "<matplotlib.legend.Legend at 0x7ff2493b2b10>"
      ]
     },
     "execution_count": 32,
     "metadata": {},
     "output_type": "execute_result"
    },
    {
     "data": {
      "image/png": "[encoded data removed]",
      "text/plain": [
       "<matplotlib.figure.Figure at 0x7ff24950cb90>"
      ]
     },
     "metadata": {},
     "output_type": "display_data"
    }
   ],
   "source": [
    "plt.plot(x,loglikelihoods)\n",
    "plt.scatter(np.ones(llh_test.shape[0])*2.0669,llh_test,s=1,label='sample')\n",
    "plt.scatter(2.0669,-124.1,facecolor='w',s=30,label='estimated llh')\n",
    "plt.scatter(2.0669,np.mean(llh_test),s=30,c='r',alpha=0.5,label='mean llh')\n",
    "plt.legend()"
   ]
  },
  {
   "cell_type": "markdown",
   "metadata": {},
   "source": [
    "最大尤度は平均尤度よりも小さい。この場合、たまたま得られた観測データで推定されたモデルでは、当てはまりの良さが過小評価されています。\n",
    "推定用データによってはこの逆になることもある。"
   ]
  },
  {
   "cell_type": "markdown",
   "metadata": {},
   "source": [
    "estimateのサンプルを１２個用意して、それぞれに対して200個のサンプルセットから尤度を計算し、その平均値を計算する。"
   ]
  },
  {
   "cell_type": "code",
   "execution_count": 33,
   "metadata": {
    "collapsed": false
   },
   "outputs": [],
   "source": [
    "#観測データの生成\n",
    "np.random.seed(2)\n",
    "y_ob = np.random.poisson(8,[12,50])\n",
    "x_ob = np.random.uniform(-2,2,[12,50])\n",
    "const = np.ones(50)\n",
    "\n",
    "#予測の良さ評価用のデータセットの生成\n",
    "predict_data = np.random.poisson(8,[12,200,50])"
   ]
  },
  {
   "cell_type": "code",
   "execution_count": 34,
   "metadata": {
    "collapsed": false
   },
   "outputs": [
    {
     "data": {
      "text/plain": [
       "<matplotlib.legend.Legend at 0x7ff2492d0250>"
      ]
     },
     "execution_count": 34,
     "metadata": {},
     "output_type": "execute_result"
    },
    {
     "data": {
      "image/png": "[encoded data removed]",
      "text/plain": [
       "<matplotlib.figure.Figure at 0x7ff2495a0050>"
      ]
     },
     "metadata": {},
     "output_type": "display_data"
    }
   ],
   "source": [
    "llh_ob = []\n",
    "param_ob = []\n",
    "llh_mean = []\n",
    "for i in xrange(12):\n",
    "    model = sm.GLM(y_ob[i],const,sm.families.Poisson())\n",
    "    result = model.fit()\n",
    "    \n",
    "    llh_ob.append(result.llf)\n",
    "    param_ob.append(result.params[0])\n",
    "    \n",
    "    llh_predict = np.array([np.sum(stats.poisson.logpmf(x,np.exp(result.params[0]))) for x in predict_data[i]])\n",
    "    llh_mean.append(llh_predict.mean())\n",
    "    plt.scatter(np.ones(llh_predict.shape[0])*result.params[0],llh_predict,s=1,c='b')\n",
    "    \n",
    "plt.scatter(param_ob,llh_ob,facecolor='w',s=30,label='estimated llh')\n",
    "plt.scatter(param_ob,llh_mean,c='r',alpha=0.7,s=30,label='mean llh')\n",
    "plt.xlabel('beta1')\n",
    "plt.ylabel('log likelihood')\n",
    "plt.ylim((-145,-105))\n",
    "plt.legend()"
   ]
  },
  {
   "cell_type": "markdown",
   "metadata": {},
   "source": [
    "最大対数尤度と平均対数尤度の差をバイアスと呼ぶ。\n",
    "$$b=logL^{*}-E(logL)$$\n",
    "\n",
    "バイアスとは何なのかを調べるためにバイアスの分布を作成する。"
   ]
  },
  {
   "cell_type": "code",
   "execution_count": 35,
   "metadata": {
    "collapsed": true
   },
   "outputs": [],
   "source": [
    "#観測データの生成\n",
    "np.random.seed(2)\n",
    "y_ob = np.random.poisson(8,[100,50])\n",
    "x_ob = np.random.uniform(-2,2,[100,50])\n",
    "const = np.ones(50)\n",
    "\n",
    "#予測の良さ評価用のデータセットの生成\n",
    "predict_data = np.random.poisson(8,[100,200,50])"
   ]
  },
  {
   "cell_type": "code",
   "execution_count": 36,
   "metadata": {
    "collapsed": false
   },
   "outputs": [],
   "source": [
    "llh_ob = []\n",
    "llh_mean = []\n",
    "for i in xrange(100):\n",
    "    model = sm.GLM(y_ob[i],const,sm.families.Poisson())\n",
    "    result = model.fit()\n",
    "    \n",
    "    llh_ob.append(result.llf)\n",
    "    \n",
    "    llh_predict = np.array([np.sum(stats.poisson.logpmf(x,np.exp(result.params[0]))) for x in predict_data[i]])\n",
    "    llh_mean.append(llh_predict.mean())\n",
    "bias = np.array(llh_ob) - np.array(llh_mean)"
   ]
  },
  {
   "cell_type": "code",
   "execution_count": 37,
   "metadata": {
    "collapsed": false
   },
   "outputs": [
    {
     "name": "stdout",
     "output_type": "stream",
     "text": [
      "標本平均値1.045\n"
     ]
    },
    {
     "data": {
      "image/png": "[encoded data removed]",
      "text/plain": [
       "<matplotlib.figure.Figure at 0x7ff24c4cec50>"
      ]
     },
     "metadata": {},
     "output_type": "display_data"
    }
   ],
   "source": [
    "plt.hist(bias)\n",
    "print('標本平均値%.3f'%bias.mean())"
   ]
  },
  {
   "cell_type": "markdown",
   "metadata": {},
   "source": [
    "予測の良さを示す平均対数尤度より、推定用データへの当てはまりの良さである最大対数尤度のほうが、平均的に1ぐらい大きいということがわかった。\n",
    "\n",
    "現実の統計モデルでは真の統計モデルがわからないので、平均対数尤度はわからない。\n",
    "\n",
    "そこで、$E(LogL)=logL^{*}-b$と式変形すると平均的なbと最大対数尤度がわかれば平均対数尤度の推定量が得られそうである。これを、バイアス補正と呼ぶ。\n",
    "\n",
    "数理統計学では最尤推定するパラメータをkこ持つモデルの平均対数尤度の推定量は$LogL^{*}-k$であることが導出されている。とすると上記の一定モデルではk=1なので\n",
    "$E(logL)=logL^{*}-1$でこれに2をかけたものがAICとなる。\n",
    "\n",
    "$$AIC=-2\\times(logL^{*}-1)$$"
   ]
  },
  {
   "cell_type": "markdown",
   "metadata": {},
   "source": [
    "平均対数尤度は統計モデルの予測の良さを示す指標だったので、AICは予測の悪さを示す指標と解釈できる。"
   ]
  },
  {
   "cell_type": "markdown",
   "metadata": {},
   "source": [
    "### ネストしているGLM間のAIC比較"
   ]
  },
  {
   "cell_type": "markdown",
   "metadata": {
    "collapsed": true
   },
   "source": [
    "AICは予測の良さを表す平均対数尤度に基づく統計量であり、さらに平均対数尤度と最大対数尤度の平均的なずれはパラメータ数kと同じであると考えています。\n",
    "\n",
    "バイアスb（ずれ）の平均値は1でしたが、ばらつきが大きように見えるので本当にこれを使っていいのか？\n",
    "\n",
    "以下では、「ネストしている」モデルの比較については、bのばらつきが小さくなることを示す。\n",
    "\n",
    "比較に使うモデルは一定モデルとxモデルである。使うデータでは、ｘとｙに全く関係がないのでAICはxモデルのがパラメータ数の分として2ぐらい悪くなるはずです。"
   ]
  },
  {
   "cell_type": "code",
   "execution_count": 38,
   "metadata": {
    "collapsed": false
   },
   "outputs": [],
   "source": [
    "#最大対数尤度の差の分布を見る\n",
    "np.random.seed(3)\n",
    "#データ作成\n",
    "y_ob = np.random.poisson(8,(200,50))\n",
    "x_ob = np.random.uniform(-2,2,(200,50))\n",
    "x_c = np.ones(50)"
   ]
  },
  {
   "cell_type": "code",
   "execution_count": 39,
   "metadata": {
    "collapsed": true
   },
   "outputs": [],
   "source": [
    "llf_differences = []\n",
    "for i in xrange(200):\n",
    "    #一定モデル\n",
    "    model = sm.GLM(y_ob[i],x_c,family=sm.families.Poisson())\n",
    "    result = model.fit()\n",
    "    llf_const = result.llf\n",
    "    \n",
    "    #xモデル\n",
    "    model = sm.GLM(y_ob[i],np.array([x_ob[i],x_c]).T,family=sm.families.Poisson())\n",
    "    result = model.fit()\n",
    "    llf_x = result.llf\n",
    "    \n",
    "    llf_differences.append(llf_x - llf_const)\n",
    "    "
   ]
  },
  {
   "cell_type": "code",
   "execution_count": 40,
   "metadata": {
    "collapsed": false
   },
   "outputs": [
    {
     "data": {
      "text/plain": [
       "<matplotlib.legend.Legend at 0x7ff24894c510>"
      ]
     },
     "execution_count": 40,
     "metadata": {},
     "output_type": "execute_result"
    },
    {
     "data": {
      "image/png": "[encoded data removed]",
      "text/plain": [
       "<matplotlib.figure.Figure at 0x7ff249341210>"
      ]
     },
     "metadata": {},
     "output_type": "display_data"
    }
   ],
   "source": [
    "plt.hist(llf_differences,bins=np.arange(-0.2,5.0,0.1))\n",
    "plt.axvline(np.mean(llf_differences),c='r',ls='--',label='average')\n",
    "plt.legend(loc='upper right')"
   ]
  },
  {
   "cell_type": "markdown",
   "metadata": {},
   "source": [
    "もともとxはyとはなんの関係もないが、xモデルのb1を上手に選ぶことで、当てはまりの良さの最大対数尤度は平均的に0.5改善される。"
   ]
  },
  {
   "cell_type": "markdown",
   "metadata": {},
   "source": [
    "次に平均尤度の差の分布を見る"
   ]
  },
  {
   "cell_type": "code",
   "execution_count": 45,
   "metadata": {
    "collapsed": false
   },
   "outputs": [],
   "source": [
    "#平均尤度の差を見る\n",
    "#観測データの用意\n",
    "y_ob = np.random.poisson(8,[200,50])\n",
    "x_ob = np.random.uniform(-2,2,[200,50])\n",
    "const = np.ones(50)\n",
    "\n",
    "#評価用のデータの生成\n",
    "y_es = np.random.poisson(8,[200,200,50])\n",
    "x_es = np.random.uniform(-2,2,[200,200,50])"
   ]
  },
  {
   "cell_type": "code",
   "execution_count": 94,
   "metadata": {
    "collapsed": false
   },
   "outputs": [],
   "source": [
    "mean_llhs_const = []\n",
    "bias_const = []\n",
    "\n",
    "mean_llhs_x = []\n",
    "bias_x = []\n",
    "\n",
    "for i in xrange(200):\n",
    "    #一定モデルの平均対数尤度\n",
    "    model = sm.GLM(y_ob[i],const,family=sm.families.Poisson())\n",
    "    result = model.fit()\n",
    "    param = result.params[0]\n",
    "\n",
    "    llhs_const = np.array([np.sum(stats.poisson.logpmf(test,np.exp(param))) for test in y_es[i]])\n",
    "    mean_llhs_const.append(llhs_const.mean())\n",
    "    bias_const.append(result.llf - llhs_const.mean())\n",
    "    \n",
    "    #xモデルの平均対数尤度\n",
    "    model = sm.GLM(y_ob[i],np.array([x_ob[i],const]).T,family=sm.families.Poisson())\n",
    "    result = model.fit()\n",
    "    beta1,beta2 = result.params\n",
    "    \n",
    "    llhs_x = np.array([np.sum(stats.poisson.logpmf(test_y,np.exp(beta1*test_x+beta2))) for test_y,test_x in zip(y_es[i],x_es[i])])\n",
    "    mean_llhs_x.append(llhs_x.mean())\n",
    "    bias_x.append(result.llf - llhs_x.mean())"
   ]
  },
  {
   "cell_type": "code",
   "execution_count": 95,
   "metadata": {
    "collapsed": true
   },
   "outputs": [],
   "source": [
    "difference_ave = np.array(mean_llhs_x) - np.array(mean_llhs_const)"
   ]
  },
  {
   "cell_type": "code",
   "execution_count": 96,
   "metadata": {
    "collapsed": false
   },
   "outputs": [
    {
     "name": "stdout",
     "output_type": "stream",
     "text": [
      "-0.546853156357\n"
     ]
    },
    {
     "data": {
      "image/png": "[encoded data removed]",
      "text/plain": [
       "<matplotlib.figure.Figure at 0x7ff2438eb4d0>"
      ]
     },
     "metadata": {},
     "output_type": "display_data"
    }
   ],
   "source": [
    "plt.hist(difference_ave,bins=np.arange(-5,1,0.1))\n",
    "plt.axvline(difference_ave.mean(),ls='--',c='r',label='average')\n",
    "plt.legend(loc='upper left')\n",
    "print(difference_ave.mean())"
   ]
  },
  {
   "cell_type": "markdown",
   "metadata": {},
   "source": [
    "パラメータ数の多いxモデルのほうが平均対数尤度が平均0.5低くなりました。推定すべきパラメータ数の増加によって予測が悪くなっている。\n",
    "\n",
    "なお、バイアスの差は（最大対数尤度の差）ー（平均対数尤度の差）で計算されるため1.0くらいになる。"
   ]
  },
  {
   "cell_type": "code",
   "execution_count": 97,
   "metadata": {
    "collapsed": true
   },
   "outputs": [],
   "source": [
    "difference_bias = np.array(bias_x) - np.array(bias_const)"
   ]
  },
  {
   "cell_type": "code",
   "execution_count": 101,
   "metadata": {
    "collapsed": false
   },
   "outputs": [
    {
     "name": "stdout",
     "output_type": "stream",
     "text": [
      "1.07690169722\n"
     ]
    },
    {
     "data": {
      "image/png": "[encoded data removed]",
      "text/plain": [
       "<matplotlib.figure.Figure at 0x7ff24340a150>"
      ]
     },
     "metadata": {},
     "output_type": "display_data"
    }
   ],
   "source": [
    "plt.hist(difference_bias,bins=np.arange(-1,10,0.5))\n",
    "plt.axvline(difference_bias.mean(),ls='--',c='r',label='average')\n",
    "plt.legend(loc='upper right')\n",
    "print(difference_bias.mean())"
   ]
  },
  {
   "cell_type": "markdown",
   "metadata": {},
   "source": [
    "前述の一定モデルにおけるバイアスの分布と比べるとバイアスの差の分布はばらつきが改善されている。"
   ]
  },
  {
   "cell_type": "markdown",
   "metadata": {},
   "source": [
    "まとめると以下の通り。\n",
    "- 当てはまりの良さである最大対数尤度はxモデルが一定モデルより0.5くらい高い\n",
    "- 予測の力である平均対数尤度はxモデルが一定モデルより0.5くらい低い\n",
    "- したがって、xモデルの最大対数尤度の平均バイアスは一定モデルと比較して1増加する。"
   ]
  },
  {
   "cell_type": "code",
   "execution_count": null,
   "metadata": {
    "collapsed": true
   },
   "outputs": [],
   "source": []
  }
 ],
 "metadata": {
  "anaconda-cloud": {},
  "kernelspec": {
   "display_name": "Python [default]",
   "language": "python",
   "name": "python2"
  },
  "language_info": {
   "codemirror_mode": {
    "name": "ipython",
    "version": 2
   },
   "file_extension": ".py",
   "mimetype": "text/x-python",
   "name": "python",
   "nbconvert_exporter": "python",
   "pygments_lexer": "ipython2",
   "version": "2.7.12"
  }
 },
 "nbformat": 4,
 "nbformat_minor": 0
}
