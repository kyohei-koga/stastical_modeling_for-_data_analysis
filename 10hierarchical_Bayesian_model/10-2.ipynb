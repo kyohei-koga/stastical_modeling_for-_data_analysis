{
 "cells": [
  {
   "cell_type": "code",
   "execution_count": 36,
   "metadata": {
    "collapsed": false
   },
   "outputs": [],
   "source": [
    "import pandas as pd\n",
    "import numpy as np\n",
    "import matplotlib.pyplot as plt\n",
    "import pymc\n",
    "import scipy\n",
    "%matplotlib inline"
   ]
  },
  {
   "cell_type": "code",
   "execution_count": 37,
   "metadata": {
    "collapsed": false
   },
   "outputs": [
    {
     "data": {
      "text/plain": [
       "Index([u'id', u'pot', u'f', u'y'], dtype='object')"
      ]
     },
     "execution_count": 37,
     "metadata": {},
     "output_type": "execute_result"
    }
   ],
   "source": [
    "data = pd.read_csv('d1.csv')\n",
    "data.columns"
   ]
  },
  {
   "cell_type": "code",
   "execution_count": 38,
   "metadata": {
    "collapsed": false
   },
   "outputs": [
    {
     "data": {
      "image/png": "[encoded data removed]",
      "text/plain": [
       "<matplotlib.figure.Figure at 0x7f56f6720510>"
      ]
     },
     "metadata": {},
     "output_type": "display_data"
    }
   ],
   "source": [
    "data.boxplot('y',by='pot')\n",
    "plt.show()"
   ]
  },
  {
   "cell_type": "code",
   "execution_count": 39,
   "metadata": {
    "collapsed": false
   },
   "outputs": [],
   "source": [
    "#前処理\n",
    "data['F'] = (data['f'] == 'T').astype(int)"
   ]
  },
  {
   "cell_type": "code",
   "execution_count": 17,
   "metadata": {
    "collapsed": false
   },
   "outputs": [],
   "source": [
    "#dummy_pot = pd.get_dummies(data['pot'],prefix='pot')\n",
    "#data = pd.concat([data,dummy_pot],axis=1)"
   ]
  },
  {
   "cell_type": "code",
   "execution_count": 40,
   "metadata": {
    "collapsed": true
   },
   "outputs": [],
   "source": [
    "data['P'] = data['pot'].map(dict(zip(data['pot'].unique(),range(len(data['pot'].unique())))))"
   ]
  },
  {
   "cell_type": "code",
   "execution_count": 43,
   "metadata": {
    "collapsed": false
   },
   "outputs": [],
   "source": [
    "b1 = pymc.Normal('b1',mu=0,tau=1.0e-4)\n",
    "b2 = pymc.Normal('b2',mu=0,tau=1.0e-4)\n",
    "s  = pymc.Uniform('s',lower=0,upper=1.0e+4)\n",
    "sp = pymc.Uniform('sp',lower=0,upper=1.0e+4)\n",
    "\n",
    "rs = [pymc.Normal(name='rs_{0}'.format(i),mu=0,tau=s**(-2)) for i in range(len(data))]\n",
    "rp = [pymc.Normal(name='rp_{0}'.format(i),mu=0,tau=sp**(-2)) for i in range(len(data['pot'].unique()))]\n",
    "\n",
    "@pymc.deterministic\n",
    "def p(b1=b1,b2=b2,s=s,sp=sp,rs=rs,rp=rp):\n",
    "    L = []\n",
    "    for i in range(len(data)):\n",
    "        lambda_i = np.exp(b1 + b2*data.iloc[i]['F'] + rs[i] + rp[data.iloc[i]['P']])\n",
    "        L.append(lambda_i)\n",
    "    return np.asarray(L)"
   ]
  },
  {
   "cell_type": "code",
   "execution_count": 46,
   "metadata": {
    "collapsed": false
   },
   "outputs": [],
   "source": [
    "obs = pymc.Poisson('obs',mu=p,value=data['y'],observed=True)\n",
    "model = pymc.Model([b1,b2,s,sp,obs])"
   ]
  },
  {
   "cell_type": "code",
   "execution_count": 47,
   "metadata": {
    "collapsed": false
   },
   "outputs": [
    {
     "name": "stdout",
     "output_type": "stream",
     "text": [
      " [----             12%                  ] 1292 of 10000 complete in 6993.7 secHalting at iteration  1291  of  10000\n"
     ]
    }
   ],
   "source": [
    "mcmc = pymc.MCMC(model)\n",
    "mcmc.sample(iter=10000,burn=1000,thin=10)"
   ]
  },
  {
   "cell_type": "code",
   "execution_count": null,
   "metadata": {
    "collapsed": true
   },
   "outputs": [],
   "source": []
  }
 ],
 "metadata": {
  "kernelspec": {
   "display_name": "Python 2",
   "language": "python",
   "name": "python2"
  },
  "language_info": {
   "codemirror_mode": {
    "name": "ipython",
    "version": 2
   },
   "file_extension": ".py",
   "mimetype": "text/x-python",
   "name": "python",
   "nbconvert_exporter": "python",
   "pygments_lexer": "ipython2",
   "version": "2.7.12"
  }
 },
 "nbformat": 4,
 "nbformat_minor": 0
}
